{
 "cells": [
  {
   "cell_type": "markdown",
   "id": "888a8ac4",
   "metadata": {},
   "source": [
    "## 1. Template for methods\n",
    "\n",
    "All the script to run your method should be in `transprs.methods`\n",
    "\n",
    "If your method has external code, please put it in the same folder with your main method script file. Also, for the ultility code, it should have the name like `{method_name}_utils.py`"
   ]
  },
  {
   "cell_type": "markdown",
   "id": "278ca84a",
   "metadata": {},
   "source": [
    "There are two type of methods here: `single population` and `multiple population`\n",
    "\n",
    "### a. Single population\n",
    "\n",
    "For example: clumping, double weight, PRScs,...\n",
    "\n",
    "Here is the template for those methods:"
   ]
  },
  {
   "cell_type": "code",
   "execution_count": null,
   "id": "ec9eae54",
   "metadata": {},
   "outputs": [],
   "source": [
    "import time\n",
    "import datetime\n",
    "\n",
    "def method_name(processor, parameter1, paramerter2,...):\n",
    "    start_time = time.time()\n",
    "    \n",
    "    # Perform the method by calling scripts environment or directly compute here\n",
    "\n",
    "    processor.adjusted_ss[\"method_name\"] = ... # Store the adjusted sumstats in adjusted_ss with the name as key\n",
    "    \n",
    "    processor.performance[\"method_name\"] = {} # Initialize the performance dictionary for this method\n",
    "    \n",
    "    \n",
    "    print(\n",
    "        \"--- Done in %s ---\"\n",
    "        % (str(datetime.timedelta(seconds=round(time.time() - start_time))))\n",
    "    )\n",
    "    \n",
    "    "
   ]
  },
  {
   "cell_type": "markdown",
   "id": "4a7a1252",
   "metadata": {},
   "source": [
    "### a. Multiple population\n",
    "\n",
    "This one should be in the `transprs.methods.multipop`\n",
    "\n",
    "For example: PRScsx,...\n",
    "\n",
    "Here is the template for those methods:"
   ]
  },
  {
   "cell_type": "code",
   "execution_count": null,
   "id": "5d0d056b",
   "metadata": {},
   "outputs": [],
   "source": [
    "import time\n",
    "import datetime\n",
    "\n",
    "def method_name(processors: list, populations: list, paramerter1: list,...):\n",
    "    start_time = time.time()\n",
    "    \n",
    "    # Perform the method by calling scripts environment or directly compute here\n",
    "    \n",
    "    for processor, pop in zip(processors, populations):\n",
    "\n",
    "        processor.adjusted_ss[\"method_name\"]  # Store the adjusted sumstats in adjusted_ss with the name as key\n",
    "\n",
    "        processor.performance[\"method_name\"] = {} # Initialize the performance dictionary for this method\n",
    "    \n",
    "    \n",
    "    print(\n",
    "        \"--- Done in %s ---\"\n",
    "        % (str(datetime.timedelta(seconds=round(time.time() - start_time))))\n",
    "    )\n",
    "    \n",
    "    "
   ]
  },
  {
   "cell_type": "markdown",
   "id": "2a69a644",
   "metadata": {},
   "source": [
    "## 2. Template for the metrics in evaluation"
   ]
  },
  {
   "cell_type": "markdown",
   "id": "2fbf13c9",
   "metadata": {},
   "source": [
    "There are some ways of doing evaluation. Here I just describe the model based evaluation with regression model. I will update other types later when I implement it."
   ]
  },
  {
   "cell_type": "code",
   "execution_count": null,
   "id": "9a3e71b3",
   "metadata": {},
   "outputs": [],
   "source": []
  }
 ],
 "metadata": {
  "kernelspec": {
   "display_name": "Python 3 (ipykernel)",
   "language": "python",
   "name": "python3"
  },
  "language_info": {
   "codemirror_mode": {
    "name": "ipython",
    "version": 3
   },
   "file_extension": ".py",
   "mimetype": "text/x-python",
   "name": "python",
   "nbconvert_exporter": "python",
   "pygments_lexer": "ipython3",
   "version": "3.8.10"
  }
 },
 "nbformat": 4,
 "nbformat_minor": 5
}
