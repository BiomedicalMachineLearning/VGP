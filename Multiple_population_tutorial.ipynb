{
 "cells": [
  {
   "cell_type": "markdown",
   "id": "2669d90d-e1ef-4430-97c3-abea14d3cd9c",
   "metadata": {},
   "source": [
    "# Multiple populations strategy for transfer PRS tutorial\n",
    "\n",
    "This tutorial show step by step how to run the transprs framework using multiple population strategy to transfer the PRS model from UKBB (large number of samples) and JPN (large number of samples) to Vietnamese (VN) population (small number of samples) "
   ]
  },
  {
   "cell_type": "markdown",
   "id": "3e6539ae-9395-46ee-9058-9c4445d9dd9a",
   "metadata": {},
   "source": [
    "### Loading library"
   ]
  },
  {
   "cell_type": "code",
   "execution_count": 1,
   "id": "09c20321-61c2-4e6b-a9b4-ab079c3d4e38",
   "metadata": {},
   "outputs": [],
   "source": [
    "import transprs as tprs"
   ]
  },
  {
   "cell_type": "markdown",
   "id": "4c88db4b-9644-485a-847d-8f581c84a91c",
   "metadata": {},
   "source": [
    "### Prepare the input data\n",
    "\n",
    "In the `tutorials/data` folder that download from here: https://drive.google.com/file/d/1HGFyQDnCKoGZEjXudEShVub3iS_DqpYd/view?usp=sharing, you should have:\n",
    "\n",
    "- Test or target individual genotypes: `test_data_VN.bed/bim/fam`\n",
    "- Test phenotype: `test.phenotype`\n",
    "- Validation individual genotypes: `val_data_VN.bed/bim/fam`\n",
    "- Validation phenotype: `validation.phenotype`\n",
    "- Summary statistic files: `UKBB_height_sumstats.ss` from UKBB, `VN_train_sumstats.ss` from VN and `JPN_height_sumstat.ss` from JPN data"
   ]
  },
  {
   "cell_type": "markdown",
   "id": "c65a5a9e-9fce-443f-9a85-e01f59b5319b",
   "metadata": {},
   "source": [
    "### Reading input data\n",
    "\n",
    "We create a DataProcessor object that manage all the related data and will be used to process and interactive with PRS methods, validation and visualization"
   ]
  },
  {
   "cell_type": "code",
   "execution_count": 2,
   "id": "9ef04554-5153-461b-b9fa-1dcdc3710df1",
   "metadata": {},
   "outputs": [
    {
     "name": "stdout",
     "output_type": "stream",
     "text": [
      "Reading the Test genotype...\n"
     ]
    },
    {
     "name": "stderr",
     "output_type": "stream",
     "text": [
      "Mapping files: 100%|██████████| 3/3 [00:02<00:00,  1.47it/s]\n"
     ]
    },
    {
     "name": "stdout",
     "output_type": "stream",
     "text": [
      "Reading the Validation genotype...\n"
     ]
    },
    {
     "name": "stderr",
     "output_type": "stream",
     "text": [
      "Mapping files: 100%|██████████| 3/3 [00:02<00:00,  1.43it/s]\n"
     ]
    },
    {
     "name": "stdout",
     "output_type": "stream",
     "text": [
      "Phenotype stored in .phenotype\n",
      "Phenotype stored in .phenotype_val\n"
     ]
    }
   ],
   "source": [
    "processor_UKBB = tprs.read_input(prefix_test=\"tutorials/data/test_data_VN\",\n",
    "                test_phenotype=\"tutorials/data/test.phenotype\",\n",
    "                sumstats_path=\"tutorials/data/UKBB_height_sumstats.ss\",\n",
    "                prefix_validation=\"tutorials/data/val_data_VN\",\n",
    "                validation_phenotype=\"tutorials/data/validation.phenotype\",\n",
    "                workdir=\"workdir_UKBB_tutorial\")"
   ]
  },
  {
   "cell_type": "markdown",
   "id": "2e817fba-36cd-4e9f-b033-051ae18f0127",
   "metadata": {},
   "source": [
    "### Preprocessing\n",
    "\n",
    "In the preprocessing, we included: cleaning SNPs, flip reverse, compute PCA "
   ]
  },
  {
   "cell_type": "code",
   "execution_count": 3,
   "id": "b2acbe43-ef5a-4451-988f-b88ca5354319",
   "metadata": {
    "tags": []
   },
   "outputs": [
    {
     "name": "stdout",
     "output_type": "stream",
     "text": [
      "PLINK v1.90b6.21 64-bit (19 Oct 2020)          www.cog-genomics.org/plink/1.9/\n",
      "(C) 2005-2020 Shaun Purcell, Christopher Chang   GNU General Public License v3\n",
      "Logging to tmp.log.\n",
      "Options in effect:\n",
      "--bfile tmp\n",
      "--indep-pairwise 200 50 0.25\n",
      "--out tmp\n",
      "\n",
      "257867 MB RAM detected; reserving 128933 MB for main workspace.\n",
      "987036 variants loaded from .bim file.\n",
      "152 people (0 males, 0 females, 152 ambiguous) loaded from .fam.\n",
      "Ambiguous sex IDs written to tmp.nosex .\n",
      "Using 1 thread (no multithreaded calculations invoked).\n",
      "Before main variant filters, 152 founders and 0 nonfounders present.\n",
      "Calculating allele frequencies... 10111213141516171819202122232425262728293031323334353637383940414243444546474849505152535455565758596061626364656667686970717273747576777879808182838485868788899091929394959697989 done.\n",
      "Total genotyping rate is 0.999556.\n",
      "987036 variants and 152 people pass filters and QC.\n",
      "Note: No phenotypes present.\n",
      "Pruned 72115 variants from chromosome 1, leaving 8751.\n",
      "Pruned 73729 variants from chromosome 2, leaving 8133.\n",
      "Pruned 61501 variants from chromosome 3, leaving 7335.\n",
      "Pruned 54590 variants from chromosome 4, leaving 6764.\n",
      "Pruned 55251 variants from chromosome 5, leaving 6522.\n",
      "Pruned 59723 variants from chromosome 6, leaving 6503.\n",
      "Pruned 48477 variants from chromosome 7, leaving 5985.\n",
      "Pruned 48326 variants from chromosome 8, leaving 5473.\n",
      "Pruned 41048 variants from chromosome 9, leaving 5236.\n",
      "Pruned 47131 variants from chromosome 10, leaving 5665.\n",
      "Pruned 45766 variants from chromosome 11, leaving 5175.\n",
      "Pruned 42989 variants from chromosome 12, leaving 5554.\n",
      "Pruned 32906 variants from chromosome 13, leaving 4107.\n",
      "Pruned 28949 variants from chromosome 14, leaving 3742.\n",
      "Pruned 26659 variants from chromosome 15, leaving 3716.\n",
      "Pruned 26775 variants from chromosome 16, leaving 4036.\n",
      "Pruned 22812 variants from chromosome 17, leaving 3769.\n",
      "Pruned 25370 variants from chromosome 18, leaving 3733.\n",
      "Pruned 15737 variants from chromosome 19, leaving 2965.\n",
      "Pruned 22536 variants from chromosome 20, leaving 3303.\n",
      "Pruned 12441 variants from chromosome 21, leaving 1781.\n",
      "Pruned 11938 variants from chromosome 22, leaving 2019.\n",
      "Pruning complete.  876769 of 987036 variants removed.\n",
      "Marker lists written to tmp.prune.in and tmp.prune.out .\n",
      "PLINK v1.90b6.21 64-bit (19 Oct 2020)          www.cog-genomics.org/plink/1.9/\n",
      "(C) 2005-2020 Shaun Purcell, Christopher Chang   GNU General Public License v3\n",
      "Logging to tmp.log.\n",
      "Options in effect:\n",
      "--bfile tmp\n",
      "--extract tmp.prune.in\n",
      "--out tmp\n",
      "--pca 6\n",
      "\n",
      "257867 MB RAM detected; reserving 128933 MB for main workspace.\n",
      "987036 variants loaded from .bim file.\n",
      "152 people (0 males, 0 females, 152 ambiguous) loaded from .fam.\n",
      "Ambiguous sex IDs written to tmp.nosex .\n",
      "--extract: 110267 variants remaining.\n",
      "Using up to 35 threads (change this with --threads).\n",
      "Before main variant filters, 152 founders and 0 nonfounders present.\n",
      "Calculating allele frequencies... 10111213141516171819202122232425262728293031323334353637383940414243444546474849505152535455565758596061626364656667686970717273747576777879808182838485868788899091929394959697989 done.\n",
      "Total genotyping rate is 0.999491.\n",
      "110267 variants and 152 people pass filters and QC.\n",
      "Note: No phenotypes present.\n",
      "Relationship matrix calculation complete.\n",
      "--pca: Results saved to tmp.eigenval and tmp.eigenvec .\n",
      "PCA result is stored in .phenotype\n"
     ]
    },
    {
     "name": "stderr",
     "output_type": "stream",
     "text": [
      "rm: cannot remove ‘./tmp’: Is a directory\n",
      "rm: cannot remove ‘./tmp-data’: Is a directory\n"
     ]
    },
    {
     "name": "stdout",
     "output_type": "stream",
     "text": [
      "PLINK v1.90b6.21 64-bit (19 Oct 2020)          www.cog-genomics.org/plink/1.9/\n",
      "(C) 2005-2020 Shaun Purcell, Christopher Chang   GNU General Public License v3\n",
      "Logging to tmp.log.\n",
      "Options in effect:\n",
      "--bfile tmp\n",
      "--indep-pairwise 200 50 0.25\n",
      "--out tmp\n",
      "\n",
      "257867 MB RAM detected; reserving 128933 MB for main workspace.\n",
      "987036 variants loaded from .bim file.\n",
      "152 people (0 males, 0 females, 152 ambiguous) loaded from .fam.\n",
      "Ambiguous sex IDs written to tmp.nosex .\n",
      "Using 1 thread (no multithreaded calculations invoked).\n",
      "Before main variant filters, 152 founders and 0 nonfounders present.\n",
      "Calculating allele frequencies... 10111213141516171819202122232425262728293031323334353637383940414243444546474849505152535455565758596061626364656667686970717273747576777879808182838485868788899091929394959697989 done.\n",
      "Total genotyping rate is 0.999535.\n",
      "987036 variants and 152 people pass filters and QC.\n",
      "Note: No phenotypes present.\n",
      "Pruned 72133 variants from chromosome 1, leaving 8733.\n",
      "Pruned 73718 variants from chromosome 2, leaving 8144.\n",
      "Pruned 61474 variants from chromosome 3, leaving 7362.\n",
      "Pruned 54622 variants from chromosome 4, leaving 6732.\n",
      "Pruned 55182 variants from chromosome 5, leaving 6591.\n",
      "Pruned 59768 variants from chromosome 6, leaving 6458.\n",
      "Pruned 48484 variants from chromosome 7, leaving 5978.\n",
      "Pruned 48338 variants from chromosome 8, leaving 5461.\n",
      "Pruned 40981 variants from chromosome 9, leaving 5303.\n",
      "Pruned 47148 variants from chromosome 10, leaving 5648.\n",
      "Pruned 45782 variants from chromosome 11, leaving 5159.\n",
      "Pruned 43036 variants from chromosome 12, leaving 5507.\n",
      "Pruned 32903 variants from chromosome 13, leaving 4110.\n",
      "Pruned 28996 variants from chromosome 14, leaving 3695.\n",
      "Pruned 26602 variants from chromosome 15, leaving 3773.\n",
      "Pruned 26753 variants from chromosome 16, leaving 4058.\n",
      "Pruned 22850 variants from chromosome 17, leaving 3731.\n",
      "Pruned 25332 variants from chromosome 18, leaving 3771.\n",
      "Pruned 15735 variants from chromosome 19, leaving 2967.\n",
      "Pruned 22566 variants from chromosome 20, leaving 3273.\n",
      "Pruned 12395 variants from chromosome 21, leaving 1827.\n",
      "Pruned 11947 variants from chromosome 22, leaving 2010.\n",
      "Pruning complete.  876745 of 987036 variants removed.\n",
      "Marker lists written to tmp.prune.in and tmp.prune.out .\n",
      "PLINK v1.90b6.21 64-bit (19 Oct 2020)          www.cog-genomics.org/plink/1.9/\n",
      "(C) 2005-2020 Shaun Purcell, Christopher Chang   GNU General Public License v3\n",
      "Logging to tmp.log.\n",
      "Options in effect:\n",
      "--bfile tmp\n",
      "--extract tmp.prune.in\n",
      "--out tmp\n",
      "--pca 6\n",
      "\n",
      "257867 MB RAM detected; reserving 128933 MB for main workspace.\n",
      "987036 variants loaded from .bim file.\n",
      "152 people (0 males, 0 females, 152 ambiguous) loaded from .fam.\n",
      "Ambiguous sex IDs written to tmp.nosex .\n",
      "--extract: 110291 variants remaining.\n",
      "Using up to 35 threads (change this with --threads).\n",
      "Before main variant filters, 152 founders and 0 nonfounders present.\n",
      "Calculating allele frequencies... 10111213141516171819202122232425262728293031323334353637383940414243444546474849505152535455565758596061626364656667686970717273747576777879808182838485868788899091929394959697989 done.\n",
      "Total genotyping rate is 0.999489.\n",
      "110291 variants and 152 people pass filters and QC.\n",
      "Note: No phenotypes present.\n",
      "Relationship matrix calculation complete.\n",
      "--pca: Results saved to tmp.eigenval and tmp.eigenvec .\n",
      "PCA result is stored in .phenotype\n"
     ]
    },
    {
     "name": "stderr",
     "output_type": "stream",
     "text": [
      "rm: cannot remove ‘./tmp’: Is a directory\n",
      "rm: cannot remove ‘./tmp-data’: Is a directory\n"
     ]
    },
    {
     "name": "stdout",
     "output_type": "stream",
     "text": [
      "Stored sumstats workdir_UKBB_tutorial/preprocessed_sumstats in working directory\n",
      "Stored test genotype workdir_UKBB_tutorial/preprocessed_test in working directory\n",
      "Stored validation genotype workdir_UKBB_tutorial/preprocessed_test in working directory\n",
      "Stored test genotype workdir_UKBB_tutorial/preprocessed_test in working directory\n"
     ]
    }
   ],
   "source": [
    "tprs.Preprocessing(processor_UKBB, n_components=6)"
   ]
  },
  {
   "cell_type": "markdown",
   "id": "f6b32ee1-bfa9-4eaf-af53-a8ca75fe83a1",
   "metadata": {},
   "source": [
    "### Running PRS models"
   ]
  },
  {
   "cell_type": "markdown",
   "id": "b9287edf-5396-4675-b09e-b891d9725304",
   "metadata": {},
   "source": [
    "We provided a set of common PRS models to use to generate the basic results. They will be combined later.\n",
    "\n",
    "Current support PRS models:\n",
    "- P+T or Clumping: `tprs.methods.clumping`\n",
    "- Double weight: `tprs.methods.double_weight`\n",
    "- LDpred: `tprs.methods.ldpred`\n",
    "- LDpred2: `tprs.methods.ldpred2`\n",
    "- polyfun: `tprs.methods.polyfun`\n",
    "- SBayesS: `tprs.methods.SBayesS`\n",
    "- SBayesR: `tprs.methods.SBayesR`\n",
    "- PRSCSx: `tprs.methods.multipop.prscsx`\n",
    "\n",
    "In this tutorial, we will only run the P+T/clumping and Double weight methods for each population.\n",
    "\n",
    "For each model, there are 5 steps:\n",
    "- 1. Run the method\n",
    "- 2. Generate PRS for validation data\n",
    "- 3. Evaluate with the validation data\n",
    "- 4. Generate PRS for test data\n",
    "- 5. Evaludate with the test data"
   ]
  },
  {
   "cell_type": "markdown",
   "id": "52b4bc55-a120-41bd-9d5c-c4d832bbe428",
   "metadata": {},
   "source": [
    "#### P+T/clumping model for UKBB"
   ]
  },
  {
   "cell_type": "code",
   "execution_count": 4,
   "id": "480154ab-5fa1-4823-9552-fddf1609095a",
   "metadata": {
    "tags": []
   },
   "outputs": [
    {
     "name": "stdout",
     "output_type": "stream",
     "text": [
      "Clumping is running...\n",
      "PLINK v1.90b6.21 64-bit (19 Oct 2020)          www.cog-genomics.org/plink/1.9/\n",
      "(C) 2005-2020 Shaun Purcell, Christopher Chang   GNU General Public License v3\n",
      "Logging to tmp_out.log.\n",
      "Options in effect:\n",
      "--bfile workdir_UKBB_tutorial/preprocessed_validation\n",
      "--clump workdir_UKBB_tutorial/preprocessed_sumstats\n",
      "--clump-field P\n",
      "--clump-kb 250\n",
      "--clump-p1 1\n",
      "--clump-r2 0.5\n",
      "--clump-snp-field SNP\n",
      "--out tmp_out\n",
      "\n",
      "257867 MB RAM detected; reserving 128933 MB for main workspace.\n",
      "987036 variants loaded from .bim file.\n",
      "152 people (0 males, 0 females, 152 ambiguous) loaded from .fam.\n",
      "Ambiguous sex IDs written to tmp_out.nosex .\n",
      "Using 1 thread (no multithreaded calculations invoked).\n",
      "Before main variant filters, 152 founders and 0 nonfounders present.\n",
      "Calculating allele frequencies... 10111213141516171819202122232425262728293031323334353637383940414243444546474849505152535455565758596061626364656667686970717273747576777879808182838485868788899091929394959697989 done.\n",
      "Total genotyping rate is 0.999535.\n",
      "987036 variants and 152 people pass filters and QC.\n",
      "Note: No phenotypes present.\n",
      "--clump: 183506 clumps formed from 658305 top variants.\n",
      "Results written to tmp_out.clumped .\n",
      "Done clumping!\n",
      "The clumping result stores in .adjusted_ss['clumping']!\n",
      "--- Done in 0:00:36 ---\n",
      "Extracting adjusted sumstats from clumping method...\n",
      "Generating PRS...\n"
     ]
    },
    {
     "name": "stderr",
     "output_type": "stream",
     "text": [
      "rm: cannot remove ‘./tmp’: Is a directory\n",
      "rm: cannot remove ‘./tmp-data’: Is a directory\n"
     ]
    },
    {
     "name": "stdout",
     "output_type": "stream",
     "text": [
      "PLINK v1.90b6.21 64-bit (19 Oct 2020)          www.cog-genomics.org/plink/1.9/\n",
      "(C) 2005-2020 Shaun Purcell, Christopher Chang   GNU General Public License v3\n",
      "Logging to tmp_results.log.\n",
      "Options in effect:\n",
      "  --bfile workdir_UKBB_tutorial/preprocessed_validation\n",
      "  --out tmp_results\n",
      "  --q-score-range tmp_range_list tmp_SNP.pvalue\n",
      "  --score workdir_UKBB_tutorial/adjusted_sumstats_clumping 3 4 9 header sum\n",
      "\n",
      "257867 MB RAM detected; reserving 128933 MB for main workspace.\n",
      "987036 variants loaded from .bim file.\n",
      "152 people (0 males, 0 females, 152 ambiguous) loaded from .fam.\n",
      "Ambiguous sex IDs written to tmp_results.nosex .\n",
      "Using 1 thread (no multithreaded calculations invoked).\n",
      "Before main variant filters, 152 founders and 0 nonfounders present.\n",
      "Calculating allele frequencies... 10111213141516171819202122232425262728293031323334353637383940414243444546474849505152535455565758596061626364656667686970717273747576777879808182838485868788899091929394959697989 done.\n",
      "Total genotyping rate is 0.999535.\n",
      "987036 variants and 152 people pass filters and QC.\n",
      "Note: No phenotypes present.\n",
      "--score: 183376 valid predictors loaded.\n"
     ]
    },
    {
     "name": "stderr",
     "output_type": "stream",
     "text": [
      "Warning: 130 lines skipped in --score file (0 due to variant ID mismatch, 130\n",
      "due to allele code mismatch); see tmp_results.nopred for details.\n",
      "Warning: 131 lines skipped in --q-score-range data file.\n"
     ]
    },
    {
     "name": "stdout",
     "output_type": "stream",
     "text": [
      "--score: 17 ranges processed.\n",
      "Results written to tmp_results.*.profile.\n",
      "PRS is generated!\n",
      "The PRS result stores in .prs_validation['clumping']!\n",
      "--- Done in 0:00:02 ---\n"
     ]
    },
    {
     "name": "stderr",
     "output_type": "stream",
     "text": [
      "rm: cannot remove ‘./tmp’: Is a directory\n",
      "rm: cannot remove ‘./tmp-data’: Is a directory\n"
     ]
    },
    {
     "name": "stdout",
     "output_type": "stream",
     "text": [
      "The best fit p-value is 0.001\n",
      "The best fit result is stored in processor.prs_validation['clumping']['best_fit']\n",
      "The best fit result is stored in processor.tuning['clumping']['coef_squared']\n",
      "Extracting adjusted sumstats from clumping method...\n",
      "Generating PRS...\n",
      "PLINK v1.90b6.21 64-bit (19 Oct 2020)          www.cog-genomics.org/plink/1.9/\n",
      "(C) 2005-2020 Shaun Purcell, Christopher Chang   GNU General Public License v3\n",
      "Logging to tmp_results.log.\n",
      "Options in effect:\n",
      "  --bfile workdir_UKBB_tutorial/preprocessed_test\n",
      "  --out tmp_results\n",
      "  --q-score-range tmp_range_list tmp_SNP.pvalue\n",
      "  --score workdir_UKBB_tutorial/adjusted_sumstats_clumping 3 4 9 header sum\n",
      "\n",
      "257867 MB RAM detected; reserving 128933 MB for main workspace.\n",
      "987036 variants loaded from .bim file.\n",
      "152 people (0 males, 0 females, 152 ambiguous) loaded from .fam.\n",
      "Ambiguous sex IDs written to tmp_results.nosex .\n",
      "Using 1 thread (no multithreaded calculations invoked).\n",
      "Before main variant filters, 152 founders and 0 nonfounders present.\n",
      "Calculating allele frequencies... 10111213141516171819202122232425262728293031323334353637383940414243444546474849505152535455565758596061626364656667686970717273747576777879808182838485868788899091929394959697989 done.\n",
      "Total genotyping rate is 0.999556.\n",
      "987036 variants and 152 people pass filters and QC.\n",
      "Note: No phenotypes present.\n",
      "--score: 183376 valid predictors loaded.\n",
      "--score: 1 range processed.\n",
      "Results written to tmp_results.*.profile.\n",
      "PRS is generated!\n",
      "The PRS result stores in .prs_test['clumping']!\n",
      "--- Done in 0:00:01 ---\n"
     ]
    },
    {
     "name": "stderr",
     "output_type": "stream",
     "text": [
      "Warning: 130 lines skipped in --score file (0 due to variant ID mismatch, 130\n",
      "due to allele code mismatch); see tmp_results.nopred for details.\n",
      "Warning: 131 lines skipped in --q-score-range data file.\n",
      "rm: cannot remove ‘./tmp’: Is a directory\n",
      "rm: cannot remove ‘./tmp-data’: Is a directory\n"
     ]
    },
    {
     "name": "stdout",
     "output_type": "stream",
     "text": [
      "The best fit p-value is 0.001\n",
      "The best fit result is stored in processor.prs_test['clumping']['best_fit']\n",
      "The best fit result is stored in processor.performance['clumping']['coef_squared']\n"
     ]
    }
   ],
   "source": [
    "tprs.methods.clumping(processor_UKBB)\n",
    "\n",
    "tprs.scoring.generate_prs(processor_UKBB,method=\"clumping\")\n",
    "\n",
    "tprs.metrics.coef_squared_evaluation(processor_UKBB,\n",
    "                                     method=\"clumping\",\n",
    "                                     trait_col=\"Height\", \n",
    "                                     prs_col=\"SCORESUM\",\n",
    "                                    )\n",
    "\n",
    "tprs.scoring.generate_prs(processor_UKBB,method=\"clumping\",validate=False)\n",
    "\n",
    "tprs.metrics.coef_squared_evaluation(processor_UKBB,\n",
    "                                     method=\"clumping\",\n",
    "                                     trait_col=\"Height\", \n",
    "                                     prs_col=\"SCORESUM\",\n",
    "                                    validate=False)"
   ]
  },
  {
   "cell_type": "markdown",
   "id": "33e98a37-f608-48df-88cc-f76b388835a6",
   "metadata": {},
   "source": [
    "#### Double weight model for UKBB"
   ]
  },
  {
   "cell_type": "code",
   "execution_count": 5,
   "id": "afdffac8-845d-4419-af5c-bea573171b13",
   "metadata": {
    "tags": []
   },
   "outputs": [
    {
     "name": "stdout",
     "output_type": "stream",
     "text": [
      "Double weight method is running...\n",
      "[1] \"Adjusted BETA is done!\"\n",
      "Done Double weight!\n",
      "The double weight result stores in .adjusted_ss['double_weight']!\n",
      "--- Done in 0:01:33 ---\n",
      "Extracting adjusted sumstats from double_weight method...\n",
      "Generating PRS...\n",
      "PLINK v1.90b6.21 64-bit (19 Oct 2020)          www.cog-genomics.org/plink/1.9/\n",
      "(C) 2005-2020 Shaun Purcell, Christopher Chang   GNU General Public License v3\n",
      "Logging to tmp_results.log.\n",
      "Options in effect:\n",
      "  --bfile workdir_UKBB_tutorial/preprocessed_validation\n",
      "  --out tmp_results\n",
      "  --q-score-range tmp_range_list tmp_SNP.pvalue\n",
      "  --score workdir_UKBB_tutorial/adjusted_sumstats_double_weight 3 4 9 header sum\n",
      "\n",
      "257867 MB RAM detected; reserving 128933 MB for main workspace.\n",
      "987036 variants loaded from .bim file.\n",
      "152 people (0 males, 0 females, 152 ambiguous) loaded from .fam.\n",
      "Ambiguous sex IDs written to tmp_results.nosex .\n",
      "Using 1 thread (no multithreaded calculations invoked).\n",
      "Before main variant filters, 152 founders and 0 nonfounders present.\n",
      "Calculating allele frequencies... 10111213141516171819202122232425262728293031323334353637383940414243444546474849505152535455565758596061626364656667686970717273747576777879808182838485868788899091929394959697989 done.\n",
      "Total genotyping rate is 0.999535.\n",
      "987036 variants and 152 people pass filters and QC.\n",
      "Note: No phenotypes present.\n",
      "--score: 657928 valid predictors loaded.\n"
     ]
    },
    {
     "name": "stderr",
     "output_type": "stream",
     "text": [
      "Warning: 377 lines skipped in --score file (0 due to variant ID mismatch, 377\n",
      "due to allele code mismatch); see tmp_results.nopred for details.\n",
      "Warning: 378 lines skipped in --q-score-range data file.\n"
     ]
    },
    {
     "name": "stdout",
     "output_type": "stream",
     "text": [
      "--score: 17 ranges processed.\n",
      "Results written to tmp_results.*.profile.\n",
      "PRS is generated!\n",
      "The PRS result stores in .prs_validation['double_weight']!\n"
     ]
    },
    {
     "name": "stderr",
     "output_type": "stream",
     "text": [
      "rm: cannot remove ‘./tmp’: Is a directory\n",
      "rm: cannot remove ‘./tmp-data’: Is a directory\n"
     ]
    },
    {
     "name": "stdout",
     "output_type": "stream",
     "text": [
      "--- Done in 0:00:03 ---\n",
      "The best fit p-value is 0.2\n",
      "The best fit result is stored in processor.prs_validation['double_weight']['best_fit']\n",
      "The best fit result is stored in processor.tuning['double_weight']['coef_squared']\n",
      "Extracting adjusted sumstats from double_weight method...\n",
      "Generating PRS...\n",
      "PLINK v1.90b6.21 64-bit (19 Oct 2020)          www.cog-genomics.org/plink/1.9/\n",
      "(C) 2005-2020 Shaun Purcell, Christopher Chang   GNU General Public License v3\n",
      "Logging to tmp_results.log.\n",
      "Options in effect:\n",
      "  --bfile workdir_UKBB_tutorial/preprocessed_test\n",
      "  --out tmp_results\n",
      "  --q-score-range tmp_range_list tmp_SNP.pvalue\n",
      "  --score workdir_UKBB_tutorial/adjusted_sumstats_double_weight 3 4 9 header sum\n",
      "\n",
      "257867 MB RAM detected; reserving 128933 MB for main workspace.\n",
      "987036 variants loaded from .bim file.\n",
      "152 people (0 males, 0 females, 152 ambiguous) loaded from .fam.\n",
      "Ambiguous sex IDs written to tmp_results.nosex .\n",
      "Using 1 thread (no multithreaded calculations invoked).\n",
      "Before main variant filters, 152 founders and 0 nonfounders present.\n",
      "Calculating allele frequencies... 10111213141516171819202122232425262728293031323334353637383940414243444546474849505152535455565758596061626364656667686970717273747576777879808182838485868788899091929394959697989 done.\n",
      "Total genotyping rate is 0.999556.\n",
      "987036 variants and 152 people pass filters and QC.\n",
      "Note: No phenotypes present.\n",
      "--score: 657928 valid predictors loaded.\n"
     ]
    },
    {
     "name": "stderr",
     "output_type": "stream",
     "text": [
      "Warning: 377 lines skipped in --score file (0 due to variant ID mismatch, 377\n",
      "due to allele code mismatch); see tmp_results.nopred for details.\n",
      "Warning: 378 lines skipped in --q-score-range data file.\n"
     ]
    },
    {
     "name": "stdout",
     "output_type": "stream",
     "text": [
      "--score: 1 range processed.\n",
      "Results written to tmp_results.*.profile.\n",
      "PRS is generated!\n",
      "The PRS result stores in .prs_test['double_weight']!\n",
      "--- Done in 0:00:02 ---\n",
      "The best fit p-value is 0.2\n",
      "The best fit result is stored in processor.prs_test['double_weight']['best_fit']\n",
      "The best fit result is stored in processor.performance['double_weight']['coef_squared']\n"
     ]
    },
    {
     "name": "stderr",
     "output_type": "stream",
     "text": [
      "rm: cannot remove ‘./tmp’: Is a directory\n",
      "rm: cannot remove ‘./tmp-data’: Is a directory\n"
     ]
    }
   ],
   "source": [
    "tprs.methods.double_weight(processor_UKBB)\n",
    "\n",
    "tprs.scoring.generate_prs(processor_UKBB,method=\"double_weight\")\n",
    "\n",
    "tprs.metrics.coef_squared_evaluation(processor_UKBB,\n",
    "                                     method=\"double_weight\",\n",
    "                                     trait_col=\"Height\", \n",
    "                                     prs_col=\"SCORESUM\",\n",
    "                                    )\n",
    "\n",
    "tprs.scoring.generate_prs(processor_UKBB,method=\"double_weight\",validate=False)\n",
    "\n",
    "tprs.metrics.coef_squared_evaluation(processor_UKBB,\n",
    "                                     method=\"double_weight\",\n",
    "                                     trait_col=\"Height\", \n",
    "                                     prs_col=\"SCORESUM\",\n",
    "                                    validate=False)"
   ]
  },
  {
   "cell_type": "markdown",
   "id": "4a7bd75e-51d1-4960-a519-f46e2c685662",
   "metadata": {},
   "source": [
    "### Running PRS models for VN population (change the sumstats)"
   ]
  },
  {
   "cell_type": "code",
   "execution_count": 6,
   "id": "1638b0f6-ea09-441c-9a33-fd0450c6b727",
   "metadata": {
    "tags": []
   },
   "outputs": [
    {
     "name": "stdout",
     "output_type": "stream",
     "text": [
      "Reading the Test genotype...\n"
     ]
    },
    {
     "name": "stderr",
     "output_type": "stream",
     "text": [
      "Mapping files: 100%|██████████| 3/3 [00:01<00:00,  1.75it/s]\n"
     ]
    },
    {
     "name": "stdout",
     "output_type": "stream",
     "text": [
      "Reading the Validation genotype...\n"
     ]
    },
    {
     "name": "stderr",
     "output_type": "stream",
     "text": [
      "Mapping files: 100%|██████████| 3/3 [00:01<00:00,  1.72it/s]\n"
     ]
    },
    {
     "name": "stdout",
     "output_type": "stream",
     "text": [
      "Phenotype stored in .phenotype\n",
      "Phenotype stored in .phenotype_val\n"
     ]
    }
   ],
   "source": [
    "processor_VN = tprs.read_input(prefix_test=\"tutorials/data/test_data_VN\",\n",
    "                test_phenotype=\"tutorials/data/test.phenotype\",\n",
    "                sumstats_path=\"tutorials/data/VN_train_sumstats.ss\",\n",
    "                prefix_validation=\"tutorials/data/val_data_VN\",\n",
    "                validation_phenotype=\"tutorials/data/validation.phenotype\",\n",
    "                workdir=\"workdir_VN_tutorial\")"
   ]
  },
  {
   "cell_type": "code",
   "execution_count": 7,
   "id": "d97ce78d-543a-4b4f-a640-80e5ec9327f7",
   "metadata": {
    "tags": []
   },
   "outputs": [
    {
     "name": "stdout",
     "output_type": "stream",
     "text": [
      "PLINK v1.90b6.21 64-bit (19 Oct 2020)          www.cog-genomics.org/plink/1.9/\n",
      "(C) 2005-2020 Shaun Purcell, Christopher Chang   GNU General Public License v3\n",
      "Logging to tmp.log.\n",
      "Options in effect:\n",
      "--bfile tmp\n",
      "--indep-pairwise 200 50 0.25\n",
      "--out tmp\n",
      "\n",
      "257867 MB RAM detected; reserving 128933 MB for main workspace.\n",
      "987036 variants loaded from .bim file.\n",
      "152 people (0 males, 0 females, 152 ambiguous) loaded from .fam.\n",
      "Ambiguous sex IDs written to tmp.nosex .\n",
      "Using 1 thread (no multithreaded calculations invoked).\n",
      "Before main variant filters, 152 founders and 0 nonfounders present.\n",
      "Calculating allele frequencies... 10111213141516171819202122232425262728293031323334353637383940414243444546474849505152535455565758596061626364656667686970717273747576777879808182838485868788899091929394959697989 done.\n",
      "Total genotyping rate is 0.999556.\n",
      "987036 variants and 152 people pass filters and QC.\n",
      "Note: No phenotypes present.\n",
      "Pruned 72115 variants from chromosome 1, leaving 8751.\n",
      "Pruned 73729 variants from chromosome 2, leaving 8133.\n",
      "Pruned 61501 variants from chromosome 3, leaving 7335.\n",
      "Pruned 54590 variants from chromosome 4, leaving 6764.\n",
      "Pruned 55251 variants from chromosome 5, leaving 6522.\n",
      "Pruned 59723 variants from chromosome 6, leaving 6503.\n",
      "Pruned 48477 variants from chromosome 7, leaving 5985.\n",
      "Pruned 48326 variants from chromosome 8, leaving 5473.\n",
      "Pruned 41048 variants from chromosome 9, leaving 5236.\n",
      "Pruned 47131 variants from chromosome 10, leaving 5665.\n",
      "Pruned 45766 variants from chromosome 11, leaving 5175.\n",
      "Pruned 42989 variants from chromosome 12, leaving 5554.\n",
      "Pruned 32906 variants from chromosome 13, leaving 4107.\n",
      "Pruned 28949 variants from chromosome 14, leaving 3742.\n",
      "Pruned 26659 variants from chromosome 15, leaving 3716.\n",
      "Pruned 26775 variants from chromosome 16, leaving 4036.\n",
      "Pruned 22812 variants from chromosome 17, leaving 3769.\n",
      "Pruned 25370 variants from chromosome 18, leaving 3733.\n",
      "Pruned 15737 variants from chromosome 19, leaving 2965.\n",
      "Pruned 22536 variants from chromosome 20, leaving 3303.\n",
      "Pruned 12441 variants from chromosome 21, leaving 1781.\n",
      "Pruned 11938 variants from chromosome 22, leaving 2019.\n",
      "Pruning complete.  876769 of 987036 variants removed.\n",
      "Marker lists written to tmp.prune.in and tmp.prune.out .\n",
      "PLINK v1.90b6.21 64-bit (19 Oct 2020)          www.cog-genomics.org/plink/1.9/\n",
      "(C) 2005-2020 Shaun Purcell, Christopher Chang   GNU General Public License v3\n",
      "Logging to tmp.log.\n",
      "Options in effect:\n",
      "--bfile tmp\n",
      "--extract tmp.prune.in\n",
      "--out tmp\n",
      "--pca 6\n",
      "\n",
      "257867 MB RAM detected; reserving 128933 MB for main workspace.\n",
      "987036 variants loaded from .bim file.\n",
      "152 people (0 males, 0 females, 152 ambiguous) loaded from .fam.\n",
      "Ambiguous sex IDs written to tmp.nosex .\n",
      "--extract: 110267 variants remaining.\n",
      "Using up to 35 threads (change this with --threads).\n",
      "Before main variant filters, 152 founders and 0 nonfounders present.\n",
      "Calculating allele frequencies... 10111213141516171819202122232425262728293031323334353637383940414243444546474849505152535455565758596061626364656667686970717273747576777879808182838485868788899091929394959697989 done.\n",
      "Total genotyping rate is 0.999491.\n",
      "110267 variants and 152 people pass filters and QC.\n",
      "Note: No phenotypes present.\n",
      "Relationship matrix calculation complete.\n",
      "--pca: Results saved to tmp.eigenval and tmp.eigenvec .\n",
      "PCA result is stored in .phenotype\n"
     ]
    },
    {
     "name": "stderr",
     "output_type": "stream",
     "text": [
      "rm: cannot remove ‘./tmp’: Is a directory\n",
      "rm: cannot remove ‘./tmp-data’: Is a directory\n"
     ]
    },
    {
     "name": "stdout",
     "output_type": "stream",
     "text": [
      "PLINK v1.90b6.21 64-bit (19 Oct 2020)          www.cog-genomics.org/plink/1.9/\n",
      "(C) 2005-2020 Shaun Purcell, Christopher Chang   GNU General Public License v3\n",
      "Logging to tmp.log.\n",
      "Options in effect:\n",
      "--bfile tmp\n",
      "--indep-pairwise 200 50 0.25\n",
      "--out tmp\n",
      "\n",
      "257867 MB RAM detected; reserving 128933 MB for main workspace.\n",
      "987036 variants loaded from .bim file.\n",
      "152 people (0 males, 0 females, 152 ambiguous) loaded from .fam.\n",
      "Ambiguous sex IDs written to tmp.nosex .\n",
      "Using 1 thread (no multithreaded calculations invoked).\n",
      "Before main variant filters, 152 founders and 0 nonfounders present.\n",
      "Calculating allele frequencies... 10111213141516171819202122232425262728293031323334353637383940414243444546474849505152535455565758596061626364656667686970717273747576777879808182838485868788899091929394959697989 done.\n",
      "Total genotyping rate is 0.999535.\n",
      "987036 variants and 152 people pass filters and QC.\n",
      "Note: No phenotypes present.\n",
      "Pruned 72133 variants from chromosome 1, leaving 8733.\n",
      "Pruned 73718 variants from chromosome 2, leaving 8144.\n",
      "Pruned 61474 variants from chromosome 3, leaving 7362.\n",
      "Pruned 54622 variants from chromosome 4, leaving 6732.\n",
      "Pruned 55182 variants from chromosome 5, leaving 6591.\n",
      "Pruned 59768 variants from chromosome 6, leaving 6458.\n",
      "Pruned 48484 variants from chromosome 7, leaving 5978.\n",
      "Pruned 48338 variants from chromosome 8, leaving 5461.\n",
      "Pruned 40981 variants from chromosome 9, leaving 5303.\n",
      "Pruned 47148 variants from chromosome 10, leaving 5648.\n",
      "Pruned 45782 variants from chromosome 11, leaving 5159.\n",
      "Pruned 43036 variants from chromosome 12, leaving 5507.\n",
      "Pruned 32903 variants from chromosome 13, leaving 4110.\n",
      "Pruned 28996 variants from chromosome 14, leaving 3695.\n",
      "Pruned 26602 variants from chromosome 15, leaving 3773.\n",
      "Pruned 26753 variants from chromosome 16, leaving 4058.\n",
      "Pruned 22850 variants from chromosome 17, leaving 3731.\n",
      "Pruned 25332 variants from chromosome 18, leaving 3771.\n",
      "Pruned 15735 variants from chromosome 19, leaving 2967.\n",
      "Pruned 22566 variants from chromosome 20, leaving 3273.\n",
      "Pruned 12395 variants from chromosome 21, leaving 1827.\n",
      "Pruned 11947 variants from chromosome 22, leaving 2010.\n",
      "Pruning complete.  876745 of 987036 variants removed.\n",
      "Marker lists written to tmp.prune.in and tmp.prune.out .\n",
      "PLINK v1.90b6.21 64-bit (19 Oct 2020)          www.cog-genomics.org/plink/1.9/\n",
      "(C) 2005-2020 Shaun Purcell, Christopher Chang   GNU General Public License v3\n",
      "Logging to tmp.log.\n",
      "Options in effect:\n",
      "--bfile tmp\n",
      "--extract tmp.prune.in\n",
      "--out tmp\n",
      "--pca 6\n",
      "\n",
      "257867 MB RAM detected; reserving 128933 MB for main workspace.\n",
      "987036 variants loaded from .bim file.\n",
      "152 people (0 males, 0 females, 152 ambiguous) loaded from .fam.\n",
      "Ambiguous sex IDs written to tmp.nosex .\n",
      "--extract: 110291 variants remaining.\n",
      "Using up to 35 threads (change this with --threads).\n",
      "Before main variant filters, 152 founders and 0 nonfounders present.\n",
      "Calculating allele frequencies... 10111213141516171819202122232425262728293031323334353637383940414243444546474849505152535455565758596061626364656667686970717273747576777879808182838485868788899091929394959697989 done.\n",
      "Total genotyping rate is 0.999489.\n",
      "110291 variants and 152 people pass filters and QC.\n",
      "Note: No phenotypes present.\n",
      "Relationship matrix calculation complete.\n",
      "--pca: Results saved to tmp.eigenval and tmp.eigenvec .\n",
      "PCA result is stored in .phenotype\n"
     ]
    },
    {
     "name": "stderr",
     "output_type": "stream",
     "text": [
      "rm: cannot remove ‘./tmp’: Is a directory\n",
      "rm: cannot remove ‘./tmp-data’: Is a directory\n"
     ]
    },
    {
     "name": "stdout",
     "output_type": "stream",
     "text": [
      "Stored sumstats workdir_VN_tutorial/preprocessed_sumstats in working directory\n",
      "Stored test genotype workdir_VN_tutorial/preprocessed_test in working directory\n",
      "Stored validation genotype workdir_VN_tutorial/preprocessed_test in working directory\n",
      "Stored test genotype workdir_VN_tutorial/preprocessed_test in working directory\n"
     ]
    }
   ],
   "source": [
    "tprs.Preprocessing(processor_VN, n_components=6)"
   ]
  },
  {
   "cell_type": "code",
   "execution_count": 8,
   "id": "b776e09c-0f49-4ddd-b777-e9c04d981398",
   "metadata": {
    "tags": []
   },
   "outputs": [
    {
     "name": "stdout",
     "output_type": "stream",
     "text": [
      "Clumping is running...\n",
      "PLINK v1.90b6.21 64-bit (19 Oct 2020)          www.cog-genomics.org/plink/1.9/\n",
      "(C) 2005-2020 Shaun Purcell, Christopher Chang   GNU General Public License v3\n",
      "Logging to tmp_out.log.\n",
      "Options in effect:\n",
      "--bfile workdir_VN_tutorial/preprocessed_validation\n",
      "--clump workdir_VN_tutorial/preprocessed_sumstats\n",
      "--clump-field P\n",
      "--clump-kb 250\n",
      "--clump-p1 1\n",
      "--clump-r2 0.5\n",
      "--clump-snp-field SNP\n",
      "--out tmp_out\n",
      "\n",
      "257867 MB RAM detected; reserving 128933 MB for main workspace.\n",
      "987036 variants loaded from .bim file.\n",
      "152 people (0 males, 0 females, 152 ambiguous) loaded from .fam.\n",
      "Ambiguous sex IDs written to tmp_out.nosex .\n",
      "Using 1 thread (no multithreaded calculations invoked).\n",
      "Before main variant filters, 152 founders and 0 nonfounders present.\n",
      "Calculating allele frequencies... 10111213141516171819202122232425262728293031323334353637383940414243444546474849505152535455565758596061626364656667686970717273747576777879808182838485868788899091929394959697989 done.\n",
      "Total genotyping rate is 0.999535.\n",
      "987036 variants and 152 people pass filters and QC.\n",
      "Note: No phenotypes present.\n",
      "--clump: 238574 clumps formed from 984245 top variants.\n",
      "Results written to tmp_out.clumped .\n",
      "Done clumping!\n",
      "The clumping result stores in .adjusted_ss['clumping']!\n"
     ]
    },
    {
     "name": "stderr",
     "output_type": "stream",
     "text": [
      "rm: cannot remove ‘./tmp’: Is a directory\n",
      "rm: cannot remove ‘./tmp-data’: Is a directory\n"
     ]
    },
    {
     "name": "stdout",
     "output_type": "stream",
     "text": [
      "--- Done in 0:00:46 ---\n",
      "Extracting adjusted sumstats from clumping method...\n",
      "Generating PRS...\n",
      "PLINK v1.90b6.21 64-bit (19 Oct 2020)          www.cog-genomics.org/plink/1.9/\n",
      "(C) 2005-2020 Shaun Purcell, Christopher Chang   GNU General Public License v3\n",
      "Logging to tmp_results.log.\n",
      "Options in effect:\n",
      "  --bfile workdir_VN_tutorial/preprocessed_validation\n",
      "  --out tmp_results\n",
      "  --q-score-range tmp_range_list tmp_SNP.pvalue\n",
      "  --score workdir_VN_tutorial/adjusted_sumstats_clumping 3 4 9 header sum\n",
      "\n",
      "257867 MB RAM detected; reserving 128933 MB for main workspace.\n",
      "987036 variants loaded from .bim file.\n",
      "152 people (0 males, 0 females, 152 ambiguous) loaded from .fam.\n",
      "Ambiguous sex IDs written to tmp_results.nosex .\n",
      "Using 1 thread (no multithreaded calculations invoked).\n",
      "Before main variant filters, 152 founders and 0 nonfounders present.\n",
      "Calculating allele frequencies... 10111213141516171819202122232425262728293031323334353637383940414243444546474849505152535455565758596061626364656667686970717273747576777879808182838485868788899091929394959697989 done.\n",
      "Total genotyping rate is 0.999535.\n",
      "987036 variants and 152 people pass filters and QC.\n",
      "Note: No phenotypes present.\n",
      "--score: 238574 valid predictors loaded.\n"
     ]
    },
    {
     "name": "stderr",
     "output_type": "stream",
     "text": [
      "Warning: 1 line skipped in --q-score-range data file.\n"
     ]
    },
    {
     "name": "stdout",
     "output_type": "stream",
     "text": [
      "--score: 13 ranges processed (4 empty ranges skipped).\n",
      "Results written to tmp_results.*.profile.\n",
      "PRS is generated!\n",
      "The PRS result stores in .prs_validation['clumping']!\n"
     ]
    },
    {
     "name": "stderr",
     "output_type": "stream",
     "text": [
      "rm: cannot remove ‘./tmp’: Is a directory\n",
      "rm: cannot remove ‘./tmp-data’: Is a directory\n"
     ]
    },
    {
     "name": "stdout",
     "output_type": "stream",
     "text": [
      "--- Done in 0:00:02 ---\n",
      "The best fit p-value is 0.000003\n",
      "The best fit result is stored in processor.prs_validation['clumping']['best_fit']\n",
      "The best fit result is stored in processor.tuning['clumping']['coef_squared']\n",
      "Extracting adjusted sumstats from clumping method...\n",
      "Generating PRS...\n",
      "PLINK v1.90b6.21 64-bit (19 Oct 2020)          www.cog-genomics.org/plink/1.9/\n",
      "(C) 2005-2020 Shaun Purcell, Christopher Chang   GNU General Public License v3\n",
      "Logging to tmp_results.log.\n",
      "Options in effect:\n",
      "  --bfile workdir_VN_tutorial/preprocessed_test\n",
      "  --out tmp_results\n",
      "  --q-score-range tmp_range_list tmp_SNP.pvalue\n",
      "  --score workdir_VN_tutorial/adjusted_sumstats_clumping 3 4 9 header sum\n",
      "\n",
      "257867 MB RAM detected; reserving 128933 MB for main workspace.\n",
      "987036 variants loaded from .bim file.\n",
      "152 people (0 males, 0 females, 152 ambiguous) loaded from .fam.\n",
      "Ambiguous sex IDs written to tmp_results.nosex .\n",
      "Using 1 thread (no multithreaded calculations invoked).\n",
      "Before main variant filters, 152 founders and 0 nonfounders present.\n",
      "Calculating allele frequencies... 10111213141516171819202122232425262728293031323334353637383940414243444546474849505152535455565758596061626364656667686970717273747576777879808182838485868788899091929394959697989 done.\n",
      "Total genotyping rate is 0.999556.\n",
      "987036 variants and 152 people pass filters and QC.\n",
      "Note: No phenotypes present.\n",
      "--score: 238574 valid predictors loaded.\n",
      "--score: 1 range processed.\n",
      "Results written to tmp_results.*.profile.\n",
      "PRS is generated!\n",
      "The PRS result stores in .prs_test['clumping']!\n"
     ]
    },
    {
     "name": "stderr",
     "output_type": "stream",
     "text": [
      "Warning: 1 line skipped in --q-score-range data file.\n"
     ]
    },
    {
     "name": "stdout",
     "output_type": "stream",
     "text": [
      "--- Done in 0:00:01 ---\n",
      "The best fit p-value is 0.000003\n",
      "The best fit result is stored in processor.prs_test['clumping']['best_fit']\n",
      "The best fit result is stored in processor.performance['clumping']['coef_squared']\n"
     ]
    },
    {
     "name": "stderr",
     "output_type": "stream",
     "text": [
      "rm: cannot remove ‘./tmp’: Is a directory\n",
      "rm: cannot remove ‘./tmp-data’: Is a directory\n"
     ]
    }
   ],
   "source": [
    "# Run P+T\n",
    "tprs.methods.clumping(processor_VN)\n",
    "\n",
    "tprs.scoring.generate_prs(processor_VN,method=\"clumping\")\n",
    "\n",
    "tprs.metrics.coef_squared_evaluation(processor_VN,\n",
    "                                     method=\"clumping\",\n",
    "                                     trait_col=\"Height\", \n",
    "                                     prs_col=\"SCORESUM\",\n",
    "                                    )\n",
    "\n",
    "tprs.scoring.generate_prs(processor_VN,method=\"clumping\",validate=False)\n",
    "\n",
    "tprs.metrics.coef_squared_evaluation(processor_VN,\n",
    "                                     method=\"clumping\",\n",
    "                                     trait_col=\"Height\", \n",
    "                                     prs_col=\"SCORESUM\",\n",
    "                                    validate=False)\n"
   ]
  },
  {
   "cell_type": "code",
   "execution_count": 9,
   "id": "61e94d9b-c84e-4911-80eb-cdf927928628",
   "metadata": {
    "tags": []
   },
   "outputs": [
    {
     "name": "stdout",
     "output_type": "stream",
     "text": [
      "Double weight method is running...\n",
      "[1] \"Adjusted BETA is done!\"\n",
      "Done Double weight!\n",
      "The double weight result stores in .adjusted_ss['double_weight']!\n",
      "--- Done in 0:02:10 ---\n",
      "Extracting adjusted sumstats from double_weight method...\n",
      "Generating PRS...\n",
      "PLINK v1.90b6.21 64-bit (19 Oct 2020)          www.cog-genomics.org/plink/1.9/\n",
      "(C) 2005-2020 Shaun Purcell, Christopher Chang   GNU General Public License v3\n",
      "Logging to tmp_results.log.\n",
      "Options in effect:\n",
      "  --bfile workdir_VN_tutorial/preprocessed_validation\n",
      "  --out tmp_results\n",
      "  --q-score-range tmp_range_list tmp_SNP.pvalue\n",
      "  --score workdir_VN_tutorial/adjusted_sumstats_double_weight 3 4 9 header sum\n",
      "\n",
      "257867 MB RAM detected; reserving 128933 MB for main workspace.\n",
      "987036 variants loaded from .bim file.\n",
      "152 people (0 males, 0 females, 152 ambiguous) loaded from .fam.\n",
      "Ambiguous sex IDs written to tmp_results.nosex .\n",
      "Using 1 thread (no multithreaded calculations invoked).\n",
      "Before main variant filters, 152 founders and 0 nonfounders present.\n",
      "Calculating allele frequencies... 101112131415161718192021222324252627282930313233343536373839404142434445464748495051525354555657585960616263646566676869707172737475767778798081828384858687888990919293949596979899%"
     ]
    },
    {
     "name": "stderr",
     "output_type": "stream",
     "text": [
      "Warning: 1 line skipped in --q-score-range data file.\n"
     ]
    },
    {
     "name": "stdout",
     "output_type": "stream",
     "text": [
      " done.\n",
      "Total genotyping rate is 0.999535.\n",
      "987036 variants and 152 people pass filters and QC.\n",
      "Note: No phenotypes present.\n",
      "--score: 984245 valid predictors loaded.\n",
      "--score: 13 ranges processed (4 empty ranges skipped).\n",
      "Results written to tmp_results.*.profile.\n",
      "PRS is generated!\n",
      "The PRS result stores in .prs_validation['double_weight']!\n"
     ]
    },
    {
     "name": "stderr",
     "output_type": "stream",
     "text": [
      "rm: cannot remove ‘./tmp’: Is a directory\n",
      "rm: cannot remove ‘./tmp-data’: Is a directory\n"
     ]
    },
    {
     "name": "stdout",
     "output_type": "stream",
     "text": [
      "--- Done in 0:00:03 ---\n",
      "The best fit p-value is 0.00003\n",
      "The best fit result is stored in processor.prs_validation['double_weight']['best_fit']\n",
      "The best fit result is stored in processor.tuning['double_weight']['coef_squared']\n",
      "Extracting adjusted sumstats from double_weight method...\n",
      "Generating PRS...\n",
      "PLINK v1.90b6.21 64-bit (19 Oct 2020)          www.cog-genomics.org/plink/1.9/\n",
      "(C) 2005-2020 Shaun Purcell, Christopher Chang   GNU General Public License v3\n",
      "Logging to tmp_results.log.\n",
      "Options in effect:\n",
      "  --bfile workdir_VN_tutorial/preprocessed_test\n",
      "  --out tmp_results\n",
      "  --q-score-range tmp_range_list tmp_SNP.pvalue\n",
      "  --score workdir_VN_tutorial/adjusted_sumstats_double_weight 3 4 9 header sum\n",
      "\n",
      "257867 MB RAM detected; reserving 128933 MB for main workspace.\n",
      "987036 variants loaded from .bim file.\n",
      "152 people (0 males, 0 females, 152 ambiguous) loaded from .fam.\n",
      "Ambiguous sex IDs written to tmp_results.nosex .\n",
      "Using 1 thread (no multithreaded calculations invoked).\n",
      "Before main variant filters, 152 founders and 0 nonfounders present.\n",
      "Calculating allele frequencies... 10111213141516171819202122232425262728293031323334353637383940414243444546474849505152535455565758596061626364656667686970717273747576777879808182838485868788899091929394959697989 done.\n",
      "Total genotyping rate is 0.999556.\n",
      "987036 variants and 152 people pass filters and QC.\n",
      "Note: No phenotypes present.\n",
      "--score: 984245 valid predictors loaded.\n",
      "--score: 1 range processed.\n",
      "Results written to tmp_results.*.profile.\n",
      "PRS is generated!\n",
      "The PRS result stores in .prs_test['double_weight']!\n"
     ]
    },
    {
     "name": "stderr",
     "output_type": "stream",
     "text": [
      "Warning: 1 line skipped in --q-score-range data file.\n"
     ]
    },
    {
     "name": "stdout",
     "output_type": "stream",
     "text": [
      "--- Done in 0:00:02 ---\n",
      "The best fit p-value is 0.00003\n",
      "The best fit result is stored in processor.prs_test['double_weight']['best_fit']\n",
      "The best fit result is stored in processor.performance['double_weight']['coef_squared']\n"
     ]
    },
    {
     "name": "stderr",
     "output_type": "stream",
     "text": [
      "rm: cannot remove ‘./tmp’: Is a directory\n",
      "rm: cannot remove ‘./tmp-data’: Is a directory\n"
     ]
    }
   ],
   "source": [
    "# Run double weight\n",
    "tprs.methods.double_weight(processor_VN)\n",
    "\n",
    "tprs.scoring.generate_prs(processor_VN,method=\"double_weight\")\n",
    "\n",
    "tprs.metrics.coef_squared_evaluation(processor_VN,\n",
    "                                     method=\"double_weight\",\n",
    "                                     trait_col=\"Height\", \n",
    "                                     prs_col=\"SCORESUM\",\n",
    "                                    )\n",
    "\n",
    "tprs.scoring.generate_prs(processor_VN,method=\"double_weight\",validate=False)\n",
    "\n",
    "tprs.metrics.coef_squared_evaluation(processor_VN,\n",
    "                                     method=\"double_weight\",\n",
    "                                     trait_col=\"Height\", \n",
    "                                     prs_col=\"SCORESUM\",\n",
    "                                    validate=False)"
   ]
  },
  {
   "cell_type": "markdown",
   "id": "18f7fd65-c148-455e-8073-ba61b353f9a3",
   "metadata": {},
   "source": [
    "### Running PRS models for JPN population (change the sumstats)"
   ]
  },
  {
   "cell_type": "code",
   "execution_count": 10,
   "id": "b55c698a-f4e5-4192-84d4-87852c8ac81f",
   "metadata": {},
   "outputs": [
    {
     "name": "stdout",
     "output_type": "stream",
     "text": [
      "Reading the Test genotype...\n"
     ]
    },
    {
     "name": "stderr",
     "output_type": "stream",
     "text": [
      "Mapping files: 100%|██████████| 3/3 [00:01<00:00,  1.56it/s]\n"
     ]
    },
    {
     "name": "stdout",
     "output_type": "stream",
     "text": [
      "Reading the Validation genotype...\n"
     ]
    },
    {
     "name": "stderr",
     "output_type": "stream",
     "text": [
      "Mapping files: 100%|██████████| 3/3 [00:01<00:00,  1.72it/s]\n"
     ]
    },
    {
     "name": "stdout",
     "output_type": "stream",
     "text": [
      "Phenotype stored in .phenotype\n",
      "Phenotype stored in .phenotype_val\n"
     ]
    }
   ],
   "source": [
    "processor_JPN = tprs.read_input(prefix_test=\"tutorials/data/test_data_VN\",\n",
    "                test_phenotype=\"tutorials/data/test.phenotype\",\n",
    "                sumstats_path=\"tutorials/data/JPN_height_sumstat.ss\",\n",
    "                prefix_validation=\"tutorials/data/val_data_VN\",\n",
    "                validation_phenotype=\"tutorials/data/validation.phenotype\",\n",
    "                workdir=\"workdir_JPN_tutorial\")"
   ]
  },
  {
   "cell_type": "code",
   "execution_count": 11,
   "id": "700fabac-63cd-44e0-9fb6-cfc9db9476ad",
   "metadata": {
    "tags": []
   },
   "outputs": [
    {
     "name": "stdout",
     "output_type": "stream",
     "text": [
      "PLINK v1.90b6.21 64-bit (19 Oct 2020)          www.cog-genomics.org/plink/1.9/\n",
      "(C) 2005-2020 Shaun Purcell, Christopher Chang   GNU General Public License v3\n",
      "Logging to tmp.log.\n",
      "Options in effect:\n",
      "--bfile tmp\n",
      "--indep-pairwise 200 50 0.25\n",
      "--out tmp\n",
      "\n",
      "257867 MB RAM detected; reserving 128933 MB for main workspace.\n",
      "987036 variants loaded from .bim file.\n",
      "152 people (0 males, 0 females, 152 ambiguous) loaded from .fam.\n",
      "Ambiguous sex IDs written to tmp.nosex .\n",
      "Using 1 thread (no multithreaded calculations invoked).\n",
      "Before main variant filters, 152 founders and 0 nonfounders present.\n",
      "Calculating allele frequencies... 10111213141516171819202122232425262728293031323334353637383940414243444546474849505152535455565758596061626364656667686970717273747576777879808182838485868788899091929394959697989 done.\n",
      "Total genotyping rate is 0.999556.\n",
      "987036 variants and 152 people pass filters and QC.\n",
      "Note: No phenotypes present.\n",
      "Pruned 72115 variants from chromosome 1, leaving 8751.\n",
      "Pruned 73729 variants from chromosome 2, leaving 8133.\n",
      "Pruned 61501 variants from chromosome 3, leaving 7335.\n",
      "Pruned 54590 variants from chromosome 4, leaving 6764.\n",
      "Pruned 55251 variants from chromosome 5, leaving 6522.\n",
      "Pruned 59723 variants from chromosome 6, leaving 6503.\n",
      "Pruned 48477 variants from chromosome 7, leaving 5985.\n",
      "Pruned 48326 variants from chromosome 8, leaving 5473.\n",
      "Pruned 41048 variants from chromosome 9, leaving 5236.\n",
      "Pruned 47131 variants from chromosome 10, leaving 5665.\n",
      "Pruned 45766 variants from chromosome 11, leaving 5175.\n",
      "Pruned 42989 variants from chromosome 12, leaving 5554.\n",
      "Pruned 32906 variants from chromosome 13, leaving 4107.\n",
      "Pruned 28949 variants from chromosome 14, leaving 3742.\n",
      "Pruned 26659 variants from chromosome 15, leaving 3716.\n",
      "Pruned 26775 variants from chromosome 16, leaving 4036.\n",
      "Pruned 22812 variants from chromosome 17, leaving 3769.\n",
      "Pruned 25370 variants from chromosome 18, leaving 3733.\n",
      "Pruned 15737 variants from chromosome 19, leaving 2965.\n",
      "Pruned 22536 variants from chromosome 20, leaving 3303.\n",
      "Pruned 12441 variants from chromosome 21, leaving 1781.\n",
      "Pruned 11938 variants from chromosome 22, leaving 2019.\n",
      "Pruning complete.  876769 of 987036 variants removed.\n",
      "Marker lists written to tmp.prune.in and tmp.prune.out .\n",
      "PLINK v1.90b6.21 64-bit (19 Oct 2020)          www.cog-genomics.org/plink/1.9/\n",
      "(C) 2005-2020 Shaun Purcell, Christopher Chang   GNU General Public License v3\n",
      "Logging to tmp.log.\n",
      "Options in effect:\n",
      "--bfile tmp\n",
      "--extract tmp.prune.in\n",
      "--out tmp\n",
      "--pca 6\n",
      "\n",
      "257867 MB RAM detected; reserving 128933 MB for main workspace.\n",
      "987036 variants loaded from .bim file.\n",
      "152 people (0 males, 0 females, 152 ambiguous) loaded from .fam.\n",
      "Ambiguous sex IDs written to tmp.nosex .\n",
      "--extract: 110267 variants remaining.\n",
      "Using up to 35 threads (change this with --threads).\n",
      "Before main variant filters, 152 founders and 0 nonfounders present.\n",
      "Calculating allele frequencies... 10111213141516171819202122232425262728293031323334353637383940414243444546474849505152535455565758596061626364656667686970717273747576777879808182838485868788899091929394959697989 done.\n",
      "Total genotyping rate is 0.999491.\n",
      "110267 variants and 152 people pass filters and QC.\n",
      "Note: No phenotypes present.\n",
      "Relationship matrix calculation complete.\n",
      "--pca: Results saved to tmp.eigenval and tmp.eigenvec .\n",
      "PCA result is stored in .phenotype\n"
     ]
    },
    {
     "name": "stderr",
     "output_type": "stream",
     "text": [
      "rm: cannot remove ‘./tmp’: Is a directory\n",
      "rm: cannot remove ‘./tmp-data’: Is a directory\n"
     ]
    },
    {
     "name": "stdout",
     "output_type": "stream",
     "text": [
      "PLINK v1.90b6.21 64-bit (19 Oct 2020)          www.cog-genomics.org/plink/1.9/\n",
      "(C) 2005-2020 Shaun Purcell, Christopher Chang   GNU General Public License v3\n",
      "Logging to tmp.log.\n",
      "Options in effect:\n",
      "--bfile tmp\n",
      "--indep-pairwise 200 50 0.25\n",
      "--out tmp\n",
      "\n",
      "257867 MB RAM detected; reserving 128933 MB for main workspace.\n",
      "987036 variants loaded from .bim file.\n",
      "152 people (0 males, 0 females, 152 ambiguous) loaded from .fam.\n",
      "Ambiguous sex IDs written to tmp.nosex .\n",
      "Using 1 thread (no multithreaded calculations invoked).\n",
      "Before main variant filters, 152 founders and 0 nonfounders present.\n",
      "Calculating allele frequencies... 10111213141516171819202122232425262728293031323334353637383940414243444546474849505152535455565758596061626364656667686970717273747576777879808182838485868788899091929394959697989 done.\n",
      "Total genotyping rate is 0.999535.\n",
      "987036 variants and 152 people pass filters and QC.\n",
      "Note: No phenotypes present.\n",
      "Pruned 72133 variants from chromosome 1, leaving 8733.\n",
      "Pruned 73718 variants from chromosome 2, leaving 8144.\n",
      "Pruned 61474 variants from chromosome 3, leaving 7362.\n",
      "Pruned 54622 variants from chromosome 4, leaving 6732.\n",
      "Pruned 55182 variants from chromosome 5, leaving 6591.\n",
      "Pruned 59768 variants from chromosome 6, leaving 6458.\n",
      "Pruned 48484 variants from chromosome 7, leaving 5978.\n",
      "Pruned 48338 variants from chromosome 8, leaving 5461.\n",
      "Pruned 40981 variants from chromosome 9, leaving 5303.\n",
      "Pruned 47148 variants from chromosome 10, leaving 5648.\n",
      "Pruned 45782 variants from chromosome 11, leaving 5159.\n",
      "Pruned 43036 variants from chromosome 12, leaving 5507.\n",
      "Pruned 32903 variants from chromosome 13, leaving 4110.\n",
      "Pruned 28996 variants from chromosome 14, leaving 3695.\n",
      "Pruned 26602 variants from chromosome 15, leaving 3773.\n",
      "Pruned 26753 variants from chromosome 16, leaving 4058.\n",
      "Pruned 22850 variants from chromosome 17, leaving 3731.\n",
      "Pruned 25332 variants from chromosome 18, leaving 3771.\n",
      "Pruned 15735 variants from chromosome 19, leaving 2967.\n",
      "Pruned 22566 variants from chromosome 20, leaving 3273.\n",
      "Pruned 12395 variants from chromosome 21, leaving 1827.\n",
      "Pruned 11947 variants from chromosome 22, leaving 2010.\n",
      "Pruning complete.  876745 of 987036 variants removed.\n",
      "Marker lists written to tmp.prune.in and tmp.prune.out .\n",
      "PLINK v1.90b6.21 64-bit (19 Oct 2020)          www.cog-genomics.org/plink/1.9/\n",
      "(C) 2005-2020 Shaun Purcell, Christopher Chang   GNU General Public License v3\n",
      "Logging to tmp.log.\n",
      "Options in effect:\n",
      "--bfile tmp\n",
      "--extract tmp.prune.in\n",
      "--out tmp\n",
      "--pca 6\n",
      "\n",
      "257867 MB RAM detected; reserving 128933 MB for main workspace.\n",
      "987036 variants loaded from .bim file.\n",
      "152 people (0 males, 0 females, 152 ambiguous) loaded from .fam.\n",
      "Ambiguous sex IDs written to tmp.nosex .\n",
      "--extract: 110291 variants remaining.\n",
      "Using up to 35 threads (change this with --threads).\n",
      "Before main variant filters, 152 founders and 0 nonfounders present.\n",
      "Calculating allele frequencies... 10111213141516171819202122232425262728293031323334353637383940414243444546474849505152535455565758596061626364656667686970717273747576777879808182838485868788899091929394959697989 done.\n",
      "Total genotyping rate is 0.999489.\n",
      "110291 variants and 152 people pass filters and QC.\n",
      "Note: No phenotypes present.\n",
      "Relationship matrix calculation complete.\n",
      "--pca: Results saved to tmp.eigenval and tmp.eigenvec .\n",
      "PCA result is stored in .phenotype\n"
     ]
    },
    {
     "name": "stderr",
     "output_type": "stream",
     "text": [
      "rm: cannot remove ‘./tmp’: Is a directory\n",
      "rm: cannot remove ‘./tmp-data’: Is a directory\n"
     ]
    },
    {
     "name": "stdout",
     "output_type": "stream",
     "text": [
      "Created folder workdir_JPN_tutorial for working directory\n",
      "Stored sumstats workdir_JPN_tutorial/preprocessed_sumstats in working directory\n",
      "Stored test genotype workdir_JPN_tutorial/preprocessed_test in working directory\n",
      "Stored validation genotype workdir_JPN_tutorial/preprocessed_test in working directory\n",
      "Stored test genotype workdir_JPN_tutorial/preprocessed_test in working directory\n"
     ]
    }
   ],
   "source": [
    "tprs.Preprocessing(processor_JPN, n_components=6)"
   ]
  },
  {
   "cell_type": "code",
   "execution_count": 12,
   "id": "71de886d-5dc5-4abc-b879-22200c569ba4",
   "metadata": {
    "tags": []
   },
   "outputs": [
    {
     "name": "stdout",
     "output_type": "stream",
     "text": [
      "Clumping is running...\n",
      "PLINK v1.90b6.21 64-bit (19 Oct 2020)          www.cog-genomics.org/plink/1.9/\n",
      "(C) 2005-2020 Shaun Purcell, Christopher Chang   GNU General Public License v3\n",
      "Logging to tmp_out.log.\n",
      "Options in effect:\n",
      "--bfile workdir_JPN_tutorial/preprocessed_validation\n",
      "--clump workdir_JPN_tutorial/preprocessed_sumstats\n",
      "--clump-field P\n",
      "--clump-kb 250\n",
      "--clump-p1 1\n",
      "--clump-r2 0.5\n",
      "--clump-snp-field SNP\n",
      "--out tmp_out\n",
      "\n",
      "257867 MB RAM detected; reserving 128933 MB for main workspace.\n",
      "987036 variants loaded from .bim file.\n",
      "152 people (0 males, 0 females, 152 ambiguous) loaded from .fam.\n",
      "Ambiguous sex IDs written to tmp_out.nosex .\n",
      "Using 1 thread (no multithreaded calculations invoked).\n",
      "Before main variant filters, 152 founders and 0 nonfounders present.\n",
      "Calculating allele frequencies... 10111213141516171819202122232425262728293031323334353637383940414243444546474849505152535455565758596061626364656667686970717273747576777879808182838485868788899091929394959697989 done.\n",
      "Total genotyping rate is 0.999535.\n",
      "987036 variants and 152 people pass filters and QC.\n",
      "Note: No phenotypes present.\n",
      "--clump: 237112 clumps formed from 974339 top variants.\n",
      "Results written to tmp_out.clumped .\n",
      "Done clumping!\n",
      "The clumping result stores in .adjusted_ss['clumping']!\n"
     ]
    },
    {
     "name": "stderr",
     "output_type": "stream",
     "text": [
      "rm: cannot remove ‘./tmp’: Is a directory\n",
      "rm: cannot remove ‘./tmp-data’: Is a directory\n"
     ]
    },
    {
     "name": "stdout",
     "output_type": "stream",
     "text": [
      "--- Done in 0:00:24 ---\n",
      "Extracting adjusted sumstats from clumping method...\n",
      "Generating PRS...\n",
      "PLINK v1.90b6.21 64-bit (19 Oct 2020)          www.cog-genomics.org/plink/1.9/\n",
      "(C) 2005-2020 Shaun Purcell, Christopher Chang   GNU General Public License v3\n",
      "Logging to tmp_results.log.\n",
      "Options in effect:\n",
      "  --bfile workdir_JPN_tutorial/preprocessed_validation\n",
      "  --out tmp_results\n",
      "  --q-score-range tmp_range_list tmp_SNP.pvalue\n",
      "  --score workdir_JPN_tutorial/adjusted_sumstats_clumping 3 4 9 header sum\n",
      "\n",
      "257867 MB RAM detected; reserving 128933 MB for main workspace.\n",
      "987036 variants loaded from .bim file.\n",
      "152 people (0 males, 0 females, 152 ambiguous) loaded from .fam.\n",
      "Ambiguous sex IDs written to tmp_results.nosex .\n",
      "Using 1 thread (no multithreaded calculations invoked).\n",
      "Before main variant filters, 152 founders and 0 nonfounders present.\n",
      "Calculating allele frequencies... 10111213141516171819202122232425262728293031323334353637383940414243444546474849505152535455565758596061626364656667686970717273747576777879808182838485868788899091929394959697989 done.\n",
      "Total genotyping rate is 0.999535.\n",
      "987036 variants and 152 people pass filters and QC.\n",
      "Note: No phenotypes present.\n",
      "--score: 236945 valid predictors loaded.\n"
     ]
    },
    {
     "name": "stderr",
     "output_type": "stream",
     "text": [
      "Warning: 167 lines skipped in --score file (0 due to variant ID mismatch, 167\n",
      "due to allele code mismatch); see tmp_results.nopred for details.\n",
      "Warning: 168 lines skipped in --q-score-range data file.\n"
     ]
    },
    {
     "name": "stdout",
     "output_type": "stream",
     "text": [
      "--score: 17 ranges processed.\n",
      "Results written to tmp_results.*.profile.\n",
      "PRS is generated!\n",
      "The PRS result stores in .prs_validation['clumping']!\n"
     ]
    },
    {
     "name": "stderr",
     "output_type": "stream",
     "text": [
      "rm: cannot remove ‘./tmp’: Is a directory\n",
      "rm: cannot remove ‘./tmp-data’: Is a directory\n"
     ]
    },
    {
     "name": "stdout",
     "output_type": "stream",
     "text": [
      "--- Done in 0:00:02 ---\n",
      "The best fit p-value is 0.001\n",
      "The best fit result is stored in processor.prs_validation['clumping']['best_fit']\n",
      "The best fit result is stored in processor.tuning['clumping']['coef_squared']\n",
      "Extracting adjusted sumstats from clumping method...\n",
      "Generating PRS...\n",
      "PLINK v1.90b6.21 64-bit (19 Oct 2020)          www.cog-genomics.org/plink/1.9/\n",
      "(C) 2005-2020 Shaun Purcell, Christopher Chang   GNU General Public License v3\n",
      "Logging to tmp_results.log.\n",
      "Options in effect:\n",
      "  --bfile workdir_JPN_tutorial/preprocessed_test\n",
      "  --out tmp_results\n",
      "  --q-score-range tmp_range_list tmp_SNP.pvalue\n",
      "  --score workdir_JPN_tutorial/adjusted_sumstats_clumping 3 4 9 header sum\n",
      "\n",
      "257867 MB RAM detected; reserving 128933 MB for main workspace.\n",
      "987036 variants loaded from .bim file.\n",
      "152 people (0 males, 0 females, 152 ambiguous) loaded from .fam.\n",
      "Ambiguous sex IDs written to tmp_results.nosex .\n",
      "Using 1 thread (no multithreaded calculations invoked).\n",
      "Before main variant filters, 152 founders and 0 nonfounders present.\n",
      "Calculating allele frequencies... 10111213141516171819202122232425262728293031323334353637383940414243444546474849505152535455565758596061626364656667686970717273747576777879808182838485868788899091929394959697989 done.\n",
      "Total genotyping rate is 0.999556.\n",
      "987036 variants and 152 people pass filters and QC.\n",
      "Note: No phenotypes present.\n",
      "--score: 236945 valid predictors loaded.\n",
      "--score: 1 range processed.\n",
      "Results written to tmp_results.*.profile.\n",
      "PRS is generated!\n",
      "The PRS result stores in .prs_test['clumping']!\n"
     ]
    },
    {
     "name": "stderr",
     "output_type": "stream",
     "text": [
      "Warning: 167 lines skipped in --score file (0 due to variant ID mismatch, 167\n",
      "due to allele code mismatch); see tmp_results.nopred for details.\n",
      "Warning: 168 lines skipped in --q-score-range data file.\n"
     ]
    },
    {
     "name": "stdout",
     "output_type": "stream",
     "text": [
      "--- Done in 0:00:01 ---\n",
      "The best fit p-value is 0.001\n",
      "The best fit result is stored in processor.prs_test['clumping']['best_fit']\n",
      "The best fit result is stored in processor.performance['clumping']['coef_squared']\n"
     ]
    },
    {
     "name": "stderr",
     "output_type": "stream",
     "text": [
      "rm: cannot remove ‘./tmp’: Is a directory\n",
      "rm: cannot remove ‘./tmp-data’: Is a directory\n"
     ]
    }
   ],
   "source": [
    "# Run P+T\n",
    "tprs.methods.clumping(processor_JPN)\n",
    "\n",
    "tprs.scoring.generate_prs(processor_JPN,method=\"clumping\")\n",
    "\n",
    "tprs.metrics.coef_squared_evaluation(processor_JPN,\n",
    "                                     method=\"clumping\",\n",
    "                                     trait_col=\"Height\", \n",
    "                                     prs_col=\"SCORESUM\",\n",
    "                                    )\n",
    "\n",
    "tprs.scoring.generate_prs(processor_JPN,method=\"clumping\",validate=False)\n",
    "\n",
    "tprs.metrics.coef_squared_evaluation(processor_JPN,\n",
    "                                     method=\"clumping\",\n",
    "                                     trait_col=\"Height\", \n",
    "                                     prs_col=\"SCORESUM\",\n",
    "                                    validate=False)\n"
   ]
  },
  {
   "cell_type": "code",
   "execution_count": 13,
   "id": "92cfa033-6ca3-458a-a2b1-d51bf01edb63",
   "metadata": {
    "tags": []
   },
   "outputs": [
    {
     "name": "stdout",
     "output_type": "stream",
     "text": [
      "Double weight method is running...\n",
      "[1] \"Adjusted BETA is done!\"\n",
      "Done Double weight!\n",
      "The double weight result stores in .adjusted_ss['double_weight']!\n",
      "--- Done in 0:02:11 ---\n",
      "Extracting adjusted sumstats from double_weight method...\n",
      "Generating PRS...\n",
      "PLINK v1.90b6.21 64-bit (19 Oct 2020)          www.cog-genomics.org/plink/1.9/\n",
      "(C) 2005-2020 Shaun Purcell, Christopher Chang   GNU General Public License v3\n",
      "Logging to tmp_results.log.\n",
      "Options in effect:\n",
      "  --bfile workdir_JPN_tutorial/preprocessed_validation\n",
      "  --out tmp_results\n",
      "  --q-score-range tmp_range_list tmp_SNP.pvalue\n",
      "  --score workdir_JPN_tutorial/adjusted_sumstats_double_weight 3 4 9 header sum\n",
      "\n",
      "257867 MB RAM detected; reserving 128933 MB for main workspace.\n",
      "987036 variants loaded from .bim file.\n",
      "152 people (0 males, 0 females, 152 ambiguous) loaded from .fam.\n",
      "Ambiguous sex IDs written to tmp_results.nosex .\n",
      "Using 1 thread (no multithreaded calculations invoked).\n",
      "Before main variant filters, 152 founders and 0 nonfounders present.\n",
      "Calculating allele frequencies... 10111213141516171819202122232425262728293031323334353637383940414243444546474849505152535455565758596061626364656667686970717273747576777879808182838485868788899091929394959697989 done.\n",
      "Total genotyping rate is 0.999535.\n",
      "987036 variants and 152 people pass filters and QC.\n",
      "Note: No phenotypes present.\n"
     ]
    },
    {
     "name": "stderr",
     "output_type": "stream",
     "text": [
      "Warning: 557 lines skipped in --score file (0 due to variant ID mismatch, 557\n",
      "due to allele code mismatch); see tmp_results.nopred for details.\n",
      "Warning: 558 lines skipped in --q-score-range data file.\n"
     ]
    },
    {
     "name": "stdout",
     "output_type": "stream",
     "text": [
      "--score: 973782 valid predictors loaded.\n",
      "--score: 17 ranges processed.\n",
      "Results written to tmp_results.*.profile.\n",
      "PRS is generated!\n",
      "The PRS result stores in .prs_validation['double_weight']!\n"
     ]
    },
    {
     "name": "stderr",
     "output_type": "stream",
     "text": [
      "rm: cannot remove ‘./tmp’: Is a directory\n",
      "rm: cannot remove ‘./tmp-data’: Is a directory\n"
     ]
    },
    {
     "name": "stdout",
     "output_type": "stream",
     "text": [
      "--- Done in 0:00:04 ---\n",
      "The best fit p-value is 0.0003\n",
      "The best fit result is stored in processor.prs_validation['double_weight']['best_fit']\n",
      "The best fit result is stored in processor.tuning['double_weight']['coef_squared']\n",
      "Extracting adjusted sumstats from double_weight method...\n",
      "Generating PRS...\n",
      "PLINK v1.90b6.21 64-bit (19 Oct 2020)          www.cog-genomics.org/plink/1.9/\n",
      "(C) 2005-2020 Shaun Purcell, Christopher Chang   GNU General Public License v3\n",
      "Logging to tmp_results.log.\n",
      "Options in effect:\n",
      "  --bfile workdir_JPN_tutorial/preprocessed_test\n",
      "  --out tmp_results\n",
      "  --q-score-range tmp_range_list tmp_SNP.pvalue\n",
      "  --score workdir_JPN_tutorial/adjusted_sumstats_double_weight 3 4 9 header sum\n",
      "\n",
      "257867 MB RAM detected; reserving 128933 MB for main workspace.\n",
      "987036 variants loaded from .bim file.\n",
      "152 people (0 males, 0 females, 152 ambiguous) loaded from .fam.\n",
      "Ambiguous sex IDs written to tmp_results.nosex .\n",
      "Using 1 thread (no multithreaded calculations invoked).\n",
      "Before main variant filters, 152 founders and 0 nonfounders present.\n",
      "Calculating allele frequencies... 10111213141516171819202122232425262728293031323334353637383940414243444546474849505152535455565758596061626364656667686970717273747576777879808182838485868788899091929394959697989 done.\n",
      "Total genotyping rate is 0.999556.\n",
      "987036 variants and 152 people pass filters and QC.\n",
      "Note: No phenotypes present.\n"
     ]
    },
    {
     "name": "stderr",
     "output_type": "stream",
     "text": [
      "Warning: 557 lines skipped in --score file (0 due to variant ID mismatch, 557\n",
      "due to allele code mismatch); see tmp_results.nopred for details.\n"
     ]
    },
    {
     "name": "stdout",
     "output_type": "stream",
     "text": [
      "--score: 973782 valid predictors loaded.\n",
      "--score: 1 range processed.\n",
      "Results written to tmp_results.*.profile.\n",
      "PRS is generated!\n",
      "The PRS result stores in .prs_test['double_weight']!\n"
     ]
    },
    {
     "name": "stderr",
     "output_type": "stream",
     "text": [
      "Warning: 558 lines skipped in --q-score-range data file.\n"
     ]
    },
    {
     "name": "stdout",
     "output_type": "stream",
     "text": [
      "--- Done in 0:00:03 ---\n",
      "The best fit p-value is 0.0003\n",
      "The best fit result is stored in processor.prs_test['double_weight']['best_fit']\n",
      "The best fit result is stored in processor.performance['double_weight']['coef_squared']\n"
     ]
    },
    {
     "name": "stderr",
     "output_type": "stream",
     "text": [
      "rm: cannot remove ‘./tmp’: Is a directory\n",
      "rm: cannot remove ‘./tmp-data’: Is a directory\n"
     ]
    }
   ],
   "source": [
    "# Run double weight\n",
    "tprs.methods.double_weight(processor_JPN)\n",
    "\n",
    "tprs.scoring.generate_prs(processor_JPN,method=\"double_weight\")\n",
    "\n",
    "tprs.metrics.coef_squared_evaluation(processor_JPN,\n",
    "                                     method=\"double_weight\",\n",
    "                                     trait_col=\"Height\", \n",
    "                                     prs_col=\"SCORESUM\",\n",
    "                                    )\n",
    "\n",
    "tprs.scoring.generate_prs(processor_JPN,method=\"double_weight\",validate=False)\n",
    "\n",
    "tprs.metrics.coef_squared_evaluation(processor_JPN,\n",
    "                                     method=\"double_weight\",\n",
    "                                     trait_col=\"Height\", \n",
    "                                     prs_col=\"SCORESUM\",\n",
    "                                    validate=False)"
   ]
  },
  {
   "cell_type": "markdown",
   "id": "a1d624ae-1f78-4e83-b033-f3893ec9de3b",
   "metadata": {},
   "source": [
    "### Combine populations with multiple populations strategy\n",
    "\n",
    "In this strategy, we used combination of all methods for each combination. It will be easy to extend the number of population and methods.\n",
    "\n",
    "The suffix number is the order of population in the list."
   ]
  },
  {
   "cell_type": "code",
   "execution_count": 14,
   "id": "1092ae0b-e7e8-4a76-b8fd-4bf077f0c00e",
   "metadata": {},
   "outputs": [],
   "source": [
    "# Set a list of all DataProcessor objects\n",
    "processors = [processor_UKBB,processor_VN,processor_JPN]"
   ]
  },
  {
   "cell_type": "code",
   "execution_count": 15,
   "id": "f68bf586-163f-4430-8415-3fbb8b3d8717",
   "metadata": {},
   "outputs": [],
   "source": [
    "# Set a list of methods user wants to combine\n",
    "methods = [\"clumping\",\"double_weight\"]"
   ]
  },
  {
   "cell_type": "code",
   "execution_count": 16,
   "id": "7bc8e884-7764-48a8-bb04-229fe725f590",
   "metadata": {},
   "outputs": [
    {
     "name": "stdout",
     "output_type": "stream",
     "text": [
      "Estimating mixing weights...\n",
      "[-6.1510915  -0.54023327 -8.57782945]\n",
      "The clumping0+clumping1+clumping2 result stores in .prs_test['clumping0+clumping1+clumping2']!\n",
      "--- Done in 0:00:00 ---\n",
      "The best fit p-value is combine\n",
      "The best fit result is stored in processor.prs_test['clumping0+clumping1+clumping2']['best_fit']\n",
      "The best fit result is stored in processor.performance['clumping0+clumping1+clumping2']['coef_squared']\n",
      "Estimating mixing weights...\n",
      "[-6.41219946 -0.98503098 -8.56773663]\n",
      "The clumping0+clumping1+double_weight2 result stores in .prs_test['clumping0+clumping1+double_weight2']!\n",
      "--- Done in 0:00:00 ---\n",
      "The best fit p-value is combine\n",
      "The best fit result is stored in processor.prs_test['clumping0+clumping1+double_weight2']['best_fit']\n",
      "The best fit result is stored in processor.performance['clumping0+clumping1+double_weight2']['coef_squared']\n",
      "Estimating mixing weights...\n",
      "[-6.61015399 -3.7506394  -8.75732957]\n",
      "The clumping0+double_weight1+clumping2 result stores in .prs_test['clumping0+double_weight1+clumping2']!\n",
      "--- Done in 0:00:00 ---\n",
      "The best fit p-value is combine\n",
      "The best fit result is stored in processor.prs_test['clumping0+double_weight1+clumping2']['best_fit']\n",
      "The best fit result is stored in processor.performance['clumping0+double_weight1+clumping2']['coef_squared']\n",
      "Estimating mixing weights...\n",
      "[-7.00869117 -3.56205321 -8.60557643]\n",
      "The clumping0+double_weight1+double_weight2 result stores in .prs_test['clumping0+double_weight1+double_weight2']!\n",
      "--- Done in 0:00:00 ---\n",
      "The best fit p-value is combine\n",
      "The best fit result is stored in processor.prs_test['clumping0+double_weight1+double_weight2']['best_fit']\n",
      "The best fit result is stored in processor.performance['clumping0+double_weight1+double_weight2']['coef_squared']\n",
      "Estimating mixing weights...\n",
      "[-5.51126386 -0.30544059 -9.43160442]\n",
      "The double_weight0+clumping1+clumping2 result stores in .prs_test['double_weight0+clumping1+clumping2']!\n",
      "--- Done in 0:00:00 ---\n",
      "The best fit p-value is combine\n",
      "The best fit result is stored in processor.prs_test['double_weight0+clumping1+clumping2']['best_fit']\n",
      "The best fit result is stored in processor.performance['double_weight0+clumping1+clumping2']['coef_squared']\n",
      "Estimating mixing weights...\n",
      "[-3.3954414  -1.11542285 -9.77461332]\n",
      "The double_weight0+clumping1+double_weight2 result stores in .prs_test['double_weight0+clumping1+double_weight2']!\n",
      "--- Done in 0:00:00 ---\n",
      "The best fit p-value is combine\n",
      "The best fit result is stored in processor.prs_test['double_weight0+clumping1+double_weight2']['best_fit']\n",
      "The best fit result is stored in processor.performance['double_weight0+clumping1+double_weight2']['coef_squared']\n",
      "Estimating mixing weights...\n",
      "[-6.14318946 -3.83768871 -9.61913711]\n",
      "The double_weight0+double_weight1+clumping2 result stores in .prs_test['double_weight0+double_weight1+clumping2']!\n",
      "--- Done in 0:00:00 ---\n",
      "The best fit p-value is combine\n",
      "The best fit result is stored in processor.prs_test['double_weight0+double_weight1+clumping2']['best_fit']\n",
      "The best fit result is stored in processor.performance['double_weight0+double_weight1+clumping2']['coef_squared']\n",
      "Estimating mixing weights...\n",
      "[-4.33025374 -3.47631938 -9.69076959]\n",
      "The double_weight0+double_weight1+double_weight2 result stores in .prs_test['double_weight0+double_weight1+double_weight2']!\n",
      "--- Done in 0:00:00 ---\n",
      "The best fit p-value is combine\n",
      "The best fit result is stored in processor.prs_test['double_weight0+double_weight1+double_weight2']['best_fit']\n",
      "The best fit result is stored in processor.performance['double_weight0+double_weight1+double_weight2']['coef_squared']\n"
     ]
    }
   ],
   "source": [
    "# Perform the combination with weighting method as linear regression\n",
    "tprs.Combine_multipop_methods(processors, methods=methods,\n",
    "                                      trait_col=\"Height\", \n",
    "                                      prs_col=\"SCORESUM\",\n",
    "                                      use_col=\"BETA\",\n",
    "                                      metric=\"coef_squared\")"
   ]
  },
  {
   "cell_type": "markdown",
   "id": "fa3ff182-86ba-4dfa-9088-b3f96d9faa98",
   "metadata": {},
   "source": [
    "### Visualization"
   ]
  },
  {
   "cell_type": "markdown",
   "id": "b0b8e483-8817-4d61-b1c6-84f9b1a2c3bf",
   "metadata": {},
   "source": [
    "User can use `bar_plot` or `box_plot` to visualize the data"
   ]
  },
  {
   "cell_type": "code",
   "execution_count": 17,
   "id": "d426d9f3-5315-4fa8-99ed-343b442b3a51",
   "metadata": {},
   "outputs": [
    {
     "data": {
      "image/png": "[encoded data removed]",
      "text/plain": [
       "<Figure size 504x504 with 1 Axes>"
      ]
     },
     "metadata": {},
     "output_type": "display_data"
    }
   ],
   "source": [
    "tprs.visualization.visualize_performance(processor_UKBB,metric=\"coef_squared\",plot_type=\"bar_plot\",cmap=\"tab20\")"
   ]
  }
 ],
 "metadata": {
  "kernelspec": {
   "display_name": "Python 3",
   "language": "python",
   "name": "python3"
  },
  "language_info": {
   "codemirror_mode": {
    "name": "ipython",
    "version": 3
   },
   "file_extension": ".py",
   "mimetype": "text/x-python",
   "name": "python",
   "nbconvert_exporter": "python",
   "pygments_lexer": "ipython3",
   "version": "3.8.12"
  }
 },
 "nbformat": 4,
 "nbformat_minor": 5
}
