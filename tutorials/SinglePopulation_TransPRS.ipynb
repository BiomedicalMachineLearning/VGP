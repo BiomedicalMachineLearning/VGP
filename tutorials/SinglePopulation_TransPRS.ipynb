{
 "cells": [
  {
   "cell_type": "markdown",
   "id": "daf7d356",
   "metadata": {},
   "source": [
    "## Load libraries"
   ]
  },
  {
   "cell_type": "code",
   "execution_count": null,
   "id": "247fca47",
   "metadata": {},
   "outputs": [],
   "source": [
    "from pandas_plink import read_plink1_bin\n",
    "import pandas as pd\n",
    "import transprs as tprs"
   ]
  },
  {
   "cell_type": "markdown",
   "id": "d8c1d110",
   "metadata": {},
   "source": [
    "## Read input"
   ]
  },
  {
   "cell_type": "code",
   "execution_count": null,
   "id": "3e46faea",
   "metadata": {},
   "outputs": [],
   "source": [
    "# Read the population file\n",
    "population = read_plink1_bin(\"./data/EUR.bed\",\n",
    "                             \"./data/EUR.bim\",\n",
    "                             \"./data/EUR.fam\")\n",
    "# Read sumstats file\n",
    "sumstats = pd.read_table(\"./data/Height.gwas.txt.gz\")"
   ]
  },
  {
   "cell_type": "code",
   "execution_count": 3,
   "id": "e05d4a18",
   "metadata": {},
   "outputs": [],
   "source": [
    "# Create the DataProcessor object\n",
    "processor = tprs.datasets.DataProcessor(sumstats=sumstats, population=population)"
   ]
  },
  {
   "cell_type": "code",
   "execution_count": 4,
   "id": "3dbc49df",
   "metadata": {},
   "outputs": [],
   "source": [
    "phenotype = pd.read_table(\"./data/EUR.height\")"
   ]
  },
  {
   "cell_type": "code",
   "execution_count": 5,
   "id": "c776a8af",
   "metadata": {
    "scrolled": true
   },
   "outputs": [
    {
     "name": "stdout",
     "output_type": "stream",
     "text": [
      "Phenotype stored in .phenotype\n"
     ]
    },
    {
     "name": "stderr",
     "output_type": "stream",
     "text": [
      "/scratch/user/uqdpham4/.conda/envs/transprs/lib/python3.8/site-packages/xarray/core/indexing.py:1226: PerformanceWarning: Slicing is producing a large chunk. To accept the large\n",
      "chunk and silence this warning, set the option\n",
      "    >>> with dask.config.set(**{'array.slicing.split_large_chunks': False}):\n",
      "    ...     array[indexer]\n",
      "\n",
      "To avoid creating the large chunks, set the option\n",
      "    >>> with dask.config.set(**{'array.slicing.split_large_chunks': True}):\n",
      "    ...     array[indexer]\n",
      "  return self.array[key]\n"
     ]
    }
   ],
   "source": [
    "processor.add_phenotype(phenotype)"
   ]
  },
  {
   "cell_type": "markdown",
   "id": "f8b26c91",
   "metadata": {},
   "source": [
    "## Preprocessing"
   ]
  },
  {
   "cell_type": "code",
   "execution_count": 6,
   "id": "06f68ab4",
   "metadata": {},
   "outputs": [
    {
     "name": "stderr",
     "output_type": "stream",
     "text": [
      "/scratch/user/uqdpham4/VGP/transprs/datasets/classes.py:61: SettingWithCopyWarning: \n",
      "A value is trying to be set on a copy of a slice from a DataFrame\n",
      "\n",
      "See the caveats in the documentation: https://pandas.pydata.org/pandas-docs/stable/user_guide/indexing.html#returning-a-view-versus-a-copy\n",
      "  self.sumstats[\"CHR\"][\n"
     ]
    },
    {
     "name": "stdout",
     "output_type": "stream",
     "text": [
      "PLINK v1.90b6.21 64-bit (19 Oct 2020)          www.cog-genomics.org/plink/1.9/\n",
      "(C) 2005-2020 Shaun Purcell, Christopher Chang   GNU General Public License v3\n",
      "Logging to tmp.log.\n",
      "Options in effect:\n",
      "  --bfile tmp\n",
      "  --indep-pairwise 200 50 0.25\n",
      "  --out tmp\n",
      "\n",
      "128656 MB RAM detected; reserving 64328 MB for main workspace.\n",
      "551892 variants loaded from .bim file.\n",
      "475 people (227 males, 248 females) loaded from .fam.\n",
      "Using 1 thread (no multithreaded calculations invoked).\n",
      "Before main variant filters, 475 founders and 0 nonfounders present.\n",
      "Calculating allele frequencies... 10111213141516171819202122232425262728293031323334353637383940414243444546474849505152535455565758596061626364656667686970717273747576777879808182838485868788899091929394959697989 done.\n",
      "Total genotyping rate is 0.999896.\n",
      "551892 variants and 475 people pass filters and QC.\n",
      "Note: No phenotypes present.\n",
      "Pruned 20659 variants from chromosome 1, leaving 21506.\n",
      "Pruned 21363 variants from chromosome 2, leaving 21295.\n",
      "Pruned 17875 variants from chromosome 3, leaving 18161.\n",
      "Pruned 16697 variants from chromosome 4, leaving 17026.\n",
      "Pruned 15454 variants from chromosome 5, leaving 16214.\n",
      "Pruned 21161 variants from chromosome 6, leaving 15727.\n",
      "Pruned 14317 variants from chromosome 7, leaving 14879.\n",
      "Pruned 13602 variants from chromosome 8, leaving 13904.\n",
      "Pruned 10993 variants from chromosome 9, leaving 12162.\n",
      "Pruned 13038 variants from chromosome 10, leaving 13550.\n",
      "Pruned 13354 variants from chromosome 11, leaving 12926.\n",
      "Pruned 11929 variants from chromosome 12, leaving 12752.\n",
      "Pruned 8621 variants from chromosome 13, leaving 9759.\n",
      "Pruned 8270 variants from chromosome 14, leaving 8947.\n",
      "Pruned 8126 variants from chromosome 15, leaving 8635.\n",
      "Pruned 9045 variants from chromosome 16, leaving 9663.\n",
      "Pruned 8212 variants from chromosome 17, leaving 8910.\n",
      "Pruned 7342 variants from chromosome 18, leaving 8717.\n",
      "Pruned 7137 variants from chromosome 19, leaving 6863.\n",
      "Pruned 6472 variants from chromosome 20, leaving 7627.\n",
      "Pruned 3708 variants from chromosome 21, leaving 4338.\n",
      "Pruned 4199 variants from chromosome 22, leaving 4367.\n",
      "Pruned 16535 variants from chromosome 23, leaving 5855.\n",
      "Pruning complete.  278109 of 551892 variants removed.\n",
      "Marker lists written to tmp.prune.in and tmp.prune.out .\n",
      "PLINK v1.90b6.21 64-bit (19 Oct 2020)          www.cog-genomics.org/plink/1.9/\n",
      "(C) 2005-2020 Shaun Purcell, Christopher Chang   GNU General Public License v3\n",
      "Logging to tmp.log.\n",
      "Options in effect:\n",
      "  --bfile tmp\n",
      "  --extract tmp.prune.in\n",
      "  --out tmp\n",
      "  --pca 6\n",
      "\n",
      "128656 MB RAM detected; reserving 64328 MB for main workspace.\n",
      "551892 variants loaded from .bim file.\n",
      "475 people (227 males, 248 females) loaded from .fam.\n",
      "--extract: 273783 variants remaining.\n",
      "Using up to 47 threads (change this with --threads).\n",
      "Before main variant filters, 475 founders and 0 nonfounders present.\n",
      "Calculating allele frequencies... 10111213141516171819202122232425262728293031323334353637383940414243444546474849505152535455565758596061626364656667686970717273747576777879808182838485868788899091929394959697989 done.\n",
      "Total genotyping rate is 0.999897.\n",
      "273783 variants and 475 people pass filters and QC.\n",
      "Note: No phenotypes present.\n",
      "Excluding 5855 variants on non-autosomes from relationship matrix calc.\n",
      "Relationship matrix calculation complete.\n",
      "--pca: Results saved to tmp.eigenval and tmp.eigenvec .\n",
      "PCA result is stored in .phenotype\n",
      "The splitted indexes are stored in .dataset_repeated_split\n"
     ]
    }
   ],
   "source": [
    "# Run preprocessing\n",
    "processor.clean_snps()\n",
    "processor.filter_imputed(info=0.9)\n",
    "processor.extract_intersection()\n",
    "processor.check_beta_se()\n",
    "processor.flip_reverse()\n",
    "processor.compute_pca(n_components=6)\n",
    "processor.split_chromosomes()\n",
    "processor.sort_snps_chr()\n",
    "processor.cross_validation_split(id_col=\"FID\",k_folds=5,n_repeats=10)"
   ]
  },
  {
   "cell_type": "markdown",
   "id": "41b674f8",
   "metadata": {},
   "source": [
    "## Run methods"
   ]
  },
  {
   "cell_type": "code",
   "execution_count": 8,
   "id": "6fb9b544",
   "metadata": {
    "scrolled": true
   },
   "outputs": [
    {
     "name": "stdout",
     "output_type": "stream",
     "text": [
      "Extracting data...\n",
      "Done extract data!\n",
      "Clumping is running...\n",
      "PLINK v1.90b6.21 64-bit (19 Oct 2020)          www.cog-genomics.org/plink/1.9/\n",
      "(C) 2005-2020 Shaun Purcell, Christopher Chang   GNU General Public License v3\n",
      "Logging to tmp_out.log.\n",
      "Options in effect:\n",
      "  --bfile tmp\n",
      "  --clump tmp_ss\n",
      "  --clump-field P\n",
      "  --clump-kb 250\n",
      "  --clump-p1 1\n",
      "  --clump-r2 0.5\n",
      "  --clump-snp-field SNP\n",
      "  --out tmp_out\n",
      "\n",
      "128656 MB RAM detected; reserving 64328 MB for main workspace.\n",
      "551892 variants loaded from .bim file.\n",
      "475 people (227 males, 248 females) loaded from .fam.\n",
      "Using 1 thread (no multithreaded calculations invoked).\n",
      "Before main variant filters, 475 founders and 0 nonfounders present.\n",
      "Calculating allele frequencies... 101112131415161718192021222324252627282930313233343536373839404142434445464748495051525354555657585960616263646566676869707172737475767778798081828384858687888990919293949596979899%"
     ]
    },
    {
     "ename": "KeyboardInterrupt",
     "evalue": "",
     "output_type": "error",
     "traceback": [
      "\u001b[0;31m---------------------------------------------------------------------------\u001b[0m",
      "\u001b[0;31mKeyboardInterrupt\u001b[0m                         Traceback (most recent call last)",
      "\u001b[0;32m/state/partition1/pbs/tmpdir/pbs.530022.tinmgr2/ipykernel_36633/2537732605.py\u001b[0m in \u001b[0;36m<module>\u001b[0;34m\u001b[0m\n\u001b[1;32m      1\u001b[0m \u001b[0;31m# Run the method PRS method: clumping\u001b[0m\u001b[0;34m\u001b[0m\u001b[0;34m\u001b[0m\u001b[0;34m\u001b[0m\u001b[0m\n\u001b[0;32m----> 2\u001b[0;31m \u001b[0mtprs\u001b[0m\u001b[0;34m.\u001b[0m\u001b[0mmethods\u001b[0m\u001b[0;34m.\u001b[0m\u001b[0mclumping\u001b[0m\u001b[0;34m(\u001b[0m\u001b[0mprocessor\u001b[0m\u001b[0;34m)\u001b[0m\u001b[0;34m\u001b[0m\u001b[0;34m\u001b[0m\u001b[0m\n\u001b[0m",
      "\u001b[0;32m/scratch/user/uqdpham4/VGP/transprs/methods/clumping.py\u001b[0m in \u001b[0;36mclumping\u001b[0;34m(processor, clump_p1, clump_r2, clump_kb)\u001b[0m\n\u001b[1;32m     18\u001b[0m     \u001b[0mprint\u001b[0m\u001b[0;34m(\u001b[0m\u001b[0;34m\"Done extract data!\"\u001b[0m\u001b[0;34m)\u001b[0m\u001b[0;34m\u001b[0m\u001b[0;34m\u001b[0m\u001b[0m\n\u001b[1;32m     19\u001b[0m     \u001b[0mprint\u001b[0m\u001b[0;34m(\u001b[0m\u001b[0;34m\"Clumping is running...\"\u001b[0m\u001b[0;34m)\u001b[0m\u001b[0;34m\u001b[0m\u001b[0;34m\u001b[0m\u001b[0m\n\u001b[0;32m---> 20\u001b[0;31m     subprocess.call(\n\u001b[0m\u001b[1;32m     21\u001b[0m         \"\"\"\n\u001b[1;32m     22\u001b[0m         \u001b[0mplink\u001b[0m\u001b[0;31m \u001b[0m\u001b[0;31m\\\u001b[0m\u001b[0;34m\u001b[0m\u001b[0;34m\u001b[0m\u001b[0m\n",
      "\u001b[0;32m/scratch/user/uqdpham4/.conda/envs/transprs/lib/python3.8/subprocess.py\u001b[0m in \u001b[0;36mcall\u001b[0;34m(timeout, *popenargs, **kwargs)\u001b[0m\n\u001b[1;32m    340\u001b[0m     \u001b[0;32mwith\u001b[0m \u001b[0mPopen\u001b[0m\u001b[0;34m(\u001b[0m\u001b[0;34m*\u001b[0m\u001b[0mpopenargs\u001b[0m\u001b[0;34m,\u001b[0m \u001b[0;34m**\u001b[0m\u001b[0mkwargs\u001b[0m\u001b[0;34m)\u001b[0m \u001b[0;32mas\u001b[0m \u001b[0mp\u001b[0m\u001b[0;34m:\u001b[0m\u001b[0;34m\u001b[0m\u001b[0;34m\u001b[0m\u001b[0m\n\u001b[1;32m    341\u001b[0m         \u001b[0;32mtry\u001b[0m\u001b[0;34m:\u001b[0m\u001b[0;34m\u001b[0m\u001b[0;34m\u001b[0m\u001b[0m\n\u001b[0;32m--> 342\u001b[0;31m             \u001b[0;32mreturn\u001b[0m \u001b[0mp\u001b[0m\u001b[0;34m.\u001b[0m\u001b[0mwait\u001b[0m\u001b[0;34m(\u001b[0m\u001b[0mtimeout\u001b[0m\u001b[0;34m=\u001b[0m\u001b[0mtimeout\u001b[0m\u001b[0;34m)\u001b[0m\u001b[0;34m\u001b[0m\u001b[0;34m\u001b[0m\u001b[0m\n\u001b[0m\u001b[1;32m    343\u001b[0m         \u001b[0;32mexcept\u001b[0m\u001b[0;34m:\u001b[0m  \u001b[0;31m# Including KeyboardInterrupt, wait handled that.\u001b[0m\u001b[0;34m\u001b[0m\u001b[0;34m\u001b[0m\u001b[0m\n\u001b[1;32m    344\u001b[0m             \u001b[0mp\u001b[0m\u001b[0;34m.\u001b[0m\u001b[0mkill\u001b[0m\u001b[0;34m(\u001b[0m\u001b[0;34m)\u001b[0m\u001b[0;34m\u001b[0m\u001b[0;34m\u001b[0m\u001b[0m\n",
      "\u001b[0;32m/scratch/user/uqdpham4/.conda/envs/transprs/lib/python3.8/subprocess.py\u001b[0m in \u001b[0;36mwait\u001b[0;34m(self, timeout)\u001b[0m\n\u001b[1;32m   1081\u001b[0m             \u001b[0mendtime\u001b[0m \u001b[0;34m=\u001b[0m \u001b[0m_time\u001b[0m\u001b[0;34m(\u001b[0m\u001b[0;34m)\u001b[0m \u001b[0;34m+\u001b[0m \u001b[0mtimeout\u001b[0m\u001b[0;34m\u001b[0m\u001b[0;34m\u001b[0m\u001b[0m\n\u001b[1;32m   1082\u001b[0m         \u001b[0;32mtry\u001b[0m\u001b[0;34m:\u001b[0m\u001b[0;34m\u001b[0m\u001b[0;34m\u001b[0m\u001b[0m\n\u001b[0;32m-> 1083\u001b[0;31m             \u001b[0;32mreturn\u001b[0m \u001b[0mself\u001b[0m\u001b[0;34m.\u001b[0m\u001b[0m_wait\u001b[0m\u001b[0;34m(\u001b[0m\u001b[0mtimeout\u001b[0m\u001b[0;34m=\u001b[0m\u001b[0mtimeout\u001b[0m\u001b[0;34m)\u001b[0m\u001b[0;34m\u001b[0m\u001b[0;34m\u001b[0m\u001b[0m\n\u001b[0m\u001b[1;32m   1084\u001b[0m         \u001b[0;32mexcept\u001b[0m \u001b[0mKeyboardInterrupt\u001b[0m\u001b[0;34m:\u001b[0m\u001b[0;34m\u001b[0m\u001b[0;34m\u001b[0m\u001b[0m\n\u001b[1;32m   1085\u001b[0m             \u001b[0;31m# https://bugs.python.org/issue25942\u001b[0m\u001b[0;34m\u001b[0m\u001b[0;34m\u001b[0m\u001b[0;34m\u001b[0m\u001b[0m\n",
      "\u001b[0;32m/scratch/user/uqdpham4/.conda/envs/transprs/lib/python3.8/subprocess.py\u001b[0m in \u001b[0;36m_wait\u001b[0;34m(self, timeout)\u001b[0m\n\u001b[1;32m   1804\u001b[0m                         \u001b[0;32mif\u001b[0m \u001b[0mself\u001b[0m\u001b[0;34m.\u001b[0m\u001b[0mreturncode\u001b[0m \u001b[0;32mis\u001b[0m \u001b[0;32mnot\u001b[0m \u001b[0;32mNone\u001b[0m\u001b[0;34m:\u001b[0m\u001b[0;34m\u001b[0m\u001b[0;34m\u001b[0m\u001b[0m\n\u001b[1;32m   1805\u001b[0m                             \u001b[0;32mbreak\u001b[0m  \u001b[0;31m# Another thread waited.\u001b[0m\u001b[0;34m\u001b[0m\u001b[0;34m\u001b[0m\u001b[0m\n\u001b[0;32m-> 1806\u001b[0;31m                         \u001b[0;34m(\u001b[0m\u001b[0mpid\u001b[0m\u001b[0;34m,\u001b[0m \u001b[0msts\u001b[0m\u001b[0;34m)\u001b[0m \u001b[0;34m=\u001b[0m \u001b[0mself\u001b[0m\u001b[0;34m.\u001b[0m\u001b[0m_try_wait\u001b[0m\u001b[0;34m(\u001b[0m\u001b[0;36m0\u001b[0m\u001b[0;34m)\u001b[0m\u001b[0;34m\u001b[0m\u001b[0;34m\u001b[0m\u001b[0m\n\u001b[0m\u001b[1;32m   1807\u001b[0m                         \u001b[0;31m# Check the pid and loop as waitpid has been known to\u001b[0m\u001b[0;34m\u001b[0m\u001b[0;34m\u001b[0m\u001b[0;34m\u001b[0m\u001b[0m\n\u001b[1;32m   1808\u001b[0m                         \u001b[0;31m# return 0 even without WNOHANG in odd situations.\u001b[0m\u001b[0;34m\u001b[0m\u001b[0;34m\u001b[0m\u001b[0;34m\u001b[0m\u001b[0m\n",
      "\u001b[0;32m/scratch/user/uqdpham4/.conda/envs/transprs/lib/python3.8/subprocess.py\u001b[0m in \u001b[0;36m_try_wait\u001b[0;34m(self, wait_flags)\u001b[0m\n\u001b[1;32m   1762\u001b[0m             \u001b[0;34m\"\"\"All callers to this function MUST hold self._waitpid_lock.\"\"\"\u001b[0m\u001b[0;34m\u001b[0m\u001b[0;34m\u001b[0m\u001b[0m\n\u001b[1;32m   1763\u001b[0m             \u001b[0;32mtry\u001b[0m\u001b[0;34m:\u001b[0m\u001b[0;34m\u001b[0m\u001b[0;34m\u001b[0m\u001b[0m\n\u001b[0;32m-> 1764\u001b[0;31m                 \u001b[0;34m(\u001b[0m\u001b[0mpid\u001b[0m\u001b[0;34m,\u001b[0m \u001b[0msts\u001b[0m\u001b[0;34m)\u001b[0m \u001b[0;34m=\u001b[0m \u001b[0mos\u001b[0m\u001b[0;34m.\u001b[0m\u001b[0mwaitpid\u001b[0m\u001b[0;34m(\u001b[0m\u001b[0mself\u001b[0m\u001b[0;34m.\u001b[0m\u001b[0mpid\u001b[0m\u001b[0;34m,\u001b[0m \u001b[0mwait_flags\u001b[0m\u001b[0;34m)\u001b[0m\u001b[0;34m\u001b[0m\u001b[0;34m\u001b[0m\u001b[0m\n\u001b[0m\u001b[1;32m   1765\u001b[0m             \u001b[0;32mexcept\u001b[0m \u001b[0mChildProcessError\u001b[0m\u001b[0;34m:\u001b[0m\u001b[0;34m\u001b[0m\u001b[0;34m\u001b[0m\u001b[0m\n\u001b[1;32m   1766\u001b[0m                 \u001b[0;31m# This happens if SIGCLD is set to be ignored or waiting\u001b[0m\u001b[0;34m\u001b[0m\u001b[0;34m\u001b[0m\u001b[0;34m\u001b[0m\u001b[0m\n",
      "\u001b[0;31mKeyboardInterrupt\u001b[0m: "
     ]
    }
   ],
   "source": [
    "# Run the method PRS method: clumping\n",
    "tprs.methods.clumping(processor)"
   ]
  },
  {
   "cell_type": "code",
   "execution_count": 9,
   "id": "222520ad",
   "metadata": {},
   "outputs": [
    {
     "name": "stdout",
     "output_type": "stream",
     "text": [
      "Double weight method is running...\n",
      "[1] \"Adjusted BETA is done!\"\n",
      "Done Double weight!\n",
      "The double weight result stores in .adjusted_ss['double_weight']!\n",
      "--- Done in 0:00:34 ---\n"
     ]
    }
   ],
   "source": [
    "# Run the method PRS method: double_weight\n",
    "tprs.methods.double_weight(processor)"
   ]
  },
  {
   "cell_type": "markdown",
   "id": "37326a41",
   "metadata": {},
   "source": [
    "PRScs cần thêm LD reference. Cần chuẩn bị folder đó như trong hướng dẫn: https://github.com/getian107/PRScs"
   ]
  },
  {
   "cell_type": "code",
   "execution_count": 7,
   "id": "b8cc72de",
   "metadata": {
    "scrolled": true
   },
   "outputs": [
    {
     "name": "stdout",
     "output_type": "stream",
     "text": [
      "Extracting data...\n",
      "Done extract data!\n",
      "PRScs is running...\n",
      "Applying PRScs for CHR 1...\n",
      "PRScs for CHR 1 is done!\n",
      "Applying PRScs for CHR 2...\n",
      "PRScs for CHR 2 is done!\n",
      "Applying PRScs for CHR 3...\n",
      "PRScs for CHR 3 is done!\n",
      "Applying PRScs for CHR 4...\n",
      "PRScs for CHR 4 is done!\n",
      "Applying PRScs for CHR 5...\n",
      "PRScs for CHR 5 is done!\n",
      "Applying PRScs for CHR 6...\n",
      "PRScs for CHR 6 is done!\n",
      "Applying PRScs for CHR 7...\n",
      "PRScs for CHR 7 is done!\n",
      "Applying PRScs for CHR 8...\n",
      "PRScs for CHR 8 is done!\n",
      "Applying PRScs for CHR 9...\n",
      "PRScs for CHR 9 is done!\n",
      "Applying PRScs for CHR 10...\n",
      "PRScs for CHR 10 is done!\n",
      "Applying PRScs for CHR 11...\n",
      "PRScs for CHR 11 is done!\n",
      "Applying PRScs for CHR 12...\n",
      "PRScs for CHR 12 is done!\n",
      "Applying PRScs for CHR 13...\n",
      "PRScs for CHR 13 is done!\n",
      "Applying PRScs for CHR 14...\n",
      "PRScs for CHR 14 is done!\n",
      "Applying PRScs for CHR 15...\n",
      "PRScs for CHR 15 is done!\n",
      "Applying PRScs for CHR 16...\n",
      "PRScs for CHR 16 is done!\n",
      "Applying PRScs for CHR 17...\n",
      "PRScs for CHR 17 is done!\n",
      "Applying PRScs for CHR 18...\n",
      "PRScs for CHR 18 is done!\n",
      "Applying PRScs for CHR 19...\n",
      "PRScs for CHR 19 is done!\n",
      "Applying PRScs for CHR 20...\n",
      "PRScs for CHR 20 is done!\n",
      "Applying PRScs for CHR 21...\n",
      "PRScs for CHR 21 is done!\n",
      "Applying PRScs for CHR 22...\n",
      "PRScs for CHR 22 is done!\n",
      "Get adjusted_beta...\n",
      "The clumping result stores in .adjusted_ss['PRScs']!\n",
      "--- Done in 0:37:39 ---\n"
     ]
    }
   ],
   "source": [
    "# Run the method PRS method: PRScs\n",
    "tprs.methods.prscs(processor,ldref_dir=\"./data/ldblk_ukbb_eur/\", use_col=\"OR\",N=5000)"
   ]
  },
  {
   "cell_type": "markdown",
   "id": "d9acc54c",
   "metadata": {},
   "source": [
    "## Generate PRS for each method"
   ]
  },
  {
   "cell_type": "code",
   "execution_count": 15,
   "id": "eb5fb9fc",
   "metadata": {},
   "outputs": [
    {
     "name": "stdout",
     "output_type": "stream",
     "text": [
      "Extracting adjusted sumstats from clumping method...\n",
      "Done extract data!\n",
      "Generating PRS...\n",
      "PRS is generated!\n",
      "The PRS result stores in .prs_results['clumping']!\n",
      "--- Done in 0:00:12 ---\n"
     ]
    }
   ],
   "source": [
    "tprs.scoring.generate_prs(processor,use_col=\"OR\",method=\"clumping\")"
   ]
  },
  {
   "cell_type": "code",
   "execution_count": 16,
   "id": "532f38cd",
   "metadata": {},
   "outputs": [
    {
     "name": "stdout",
     "output_type": "stream",
     "text": [
      "Extracting adjusted sumstats from double_weight method...\n",
      "Done extract data!\n",
      "Generating PRS...\n",
      "PRS is generated!\n",
      "The PRS result stores in .prs_results['double_weight']!\n",
      "--- Done in 0:00:18 ---\n"
     ]
    }
   ],
   "source": [
    "tprs.scoring.generate_prs(processor,use_col=\"OR\",method=\"double_weight\")"
   ]
  },
  {
   "cell_type": "code",
   "execution_count": 19,
   "id": "73431ffb",
   "metadata": {},
   "outputs": [
    {
     "name": "stdout",
     "output_type": "stream",
     "text": [
      "Extracting adjusted sumstats from PRScs method...\n",
      "Done extract data!\n",
      "Generating PRS...\n",
      "PRS is generated!\n",
      "The PRS result stores in .prs_results['PRScs']!\n",
      "--- Done in 0:00:09 ---\n"
     ]
    }
   ],
   "source": [
    "tprs.scoring.generate_prs(processor,use_col=\"OR\",method=\"PRScs\")"
   ]
  },
  {
   "cell_type": "markdown",
   "id": "961ba5a9",
   "metadata": {},
   "source": [
    "## Evaluation by r2_score metrics"
   ]
  },
  {
   "cell_type": "code",
   "execution_count": null,
   "id": "52beb429",
   "metadata": {},
   "outputs": [],
   "source": [
    "tprs.metrics.r2_score_evaluation(processor,method=\"clumping\", trait_col=\"Height\", prs_col=\"SCORE\")"
   ]
  },
  {
   "cell_type": "code",
   "execution_count": 19,
   "id": "2f76ceb8",
   "metadata": {},
   "outputs": [
    {
     "name": "stdout",
     "output_type": "stream",
     "text": [
      "The best fit p-value is 0.4\n",
      "The best fit result is stored in processor.prs_results['double_weight']['best_fit']\n",
      "The best fit result is stored in processor.performance['double_weight']['r2_score']\n"
     ]
    }
   ],
   "source": [
    "tprs.metrics.r2_score_evaluation(processor,method=\"double_weight\", trait_col=\"Height\", prs_col=\"SCORE\")"
   ]
  },
  {
   "cell_type": "code",
   "execution_count": 21,
   "id": "9d71e093",
   "metadata": {},
   "outputs": [
    {
     "name": "stdout",
     "output_type": "stream",
     "text": [
      "The best fit p-value is 0.4\n",
      "The best fit result is stored in processor.prs_results['PRScs']['best_fit']\n",
      "The best fit result is stored in processor.performance['PRScs']['r2_score']\n"
     ]
    }
   ],
   "source": [
    "tprs.metrics.r2_score_evaluation(processor,method=\"PRScs\", trait_col=\"Height\", prs_col=\"SCORE\")"
   ]
  },
  {
   "cell_type": "markdown",
   "id": "b37c5fd5",
   "metadata": {},
   "source": [
    "## Combine methods based on the best fit p-value"
   ]
  },
  {
   "cell_type": "code",
   "execution_count": 22,
   "id": "fe610030",
   "metadata": {},
   "outputs": [
    {
     "name": "stdout",
     "output_type": "stream",
     "text": [
      "Estimating mixing weights...\n",
      "Mixing weights are: [0.41598225 0.        ]\n",
      "Estimating mixing is done!\n",
      "Adjusted BETA...\n",
      "Adjusted BETA is done\n",
      "The clumping result stores in .adjusted_ss['clumping+double_weight']!\n",
      "--- Done in 0:00:01 ---\n",
      "Extracting adjusted sumstats from clumping+double_weight method...\n",
      "Done extract data!\n",
      "Generating PRS...\n",
      "PRS is generated!\n",
      "The PRS result stores in .prs_results['clumping+double_weight']!\n",
      "--- Done in 0:00:14 ---\n",
      "The best fit p-value is 0.5\n",
      "The best fit result is stored in processor.prs_results['clumping+double_weight']['best_fit']\n",
      "The best fit result is stored in processor.performance['clumping+double_weight']['r2_score']\n"
     ]
    }
   ],
   "source": [
    "# Run the method PRS method: clumping_double_weight\n",
    "tprs.combine.combine_methods(processor,methods=[\"clumping\",\"double_weight\"], \n",
    "                             trait_col=\"Height\",key_ss=\"clumping+double_weight\",use_col=\"OR\" )\n",
    "tprs.scoring.generate_prs(processor,use_col=\"OR\",method=\"clumping+double_weight\")\n",
    "tprs.metrics.r2_score_evaluation(processor,method=\"clumping+double_weight\", trait_col=\"Height\", prs_col=\"SCORE\")"
   ]
  },
  {
   "cell_type": "code",
   "execution_count": 23,
   "id": "5d4e9931",
   "metadata": {},
   "outputs": [
    {
     "name": "stdout",
     "output_type": "stream",
     "text": [
      "Estimating mixing weights...\n",
      "Mixing weights are: [0.41598225 0.         0.        ]\n",
      "Estimating mixing is done!\n",
      "Adjusted BETA...\n",
      "Adjusted BETA is done\n",
      "The clumping result stores in .adjusted_ss['clumping+double_weight+PRScs']!\n",
      "--- Done in 0:00:00 ---\n",
      "Extracting adjusted sumstats from clumping+double_weight+PRScs method...\n",
      "Done extract data!\n",
      "Generating PRS...\n",
      "PRS is generated!\n",
      "The PRS result stores in .prs_results['clumping+double_weight+PRScs']!\n",
      "--- Done in 0:00:12 ---\n",
      "The best fit p-value is 0.5\n",
      "The best fit result is stored in processor.prs_results['clumping+double_weight+PRScs']['best_fit']\n",
      "The best fit result is stored in processor.performance['clumping+double_weight+PRScs']['r2_score']\n"
     ]
    }
   ],
   "source": [
    "# Run the method PRS method: clumping_double_weight_PRScs\n",
    "tprs.combine.combine_methods(processor,methods=[\"clumping\",\"double_weight\",\"PRScs\"], \n",
    "                             trait_col=\"Height\",key_ss=\"clumping+double_weight+PRScs\",use_col=\"OR\" )\n",
    "tprs.scoring.generate_prs(processor,use_col=\"OR\",method=\"clumping+double_weight+PRScs\")\n",
    "tprs.metrics.r2_score_evaluation(processor,method=\"clumping+double_weight+PRScs\", trait_col=\"Height\", prs_col=\"SCORE\")"
   ]
  },
  {
   "cell_type": "code",
   "execution_count": 24,
   "id": "7341a248",
   "metadata": {},
   "outputs": [
    {
     "name": "stdout",
     "output_type": "stream",
     "text": [
      "Estimating mixing weights...\n",
      "Mixing weights are: [0.41598225 0.        ]\n",
      "Estimating mixing is done!\n",
      "Adjusted BETA...\n",
      "Adjusted BETA is done\n",
      "The clumping result stores in .adjusted_ss['clumping+PRScs']!\n",
      "--- Done in 0:00:00 ---\n",
      "Extracting adjusted sumstats from clumping+PRScs method...\n",
      "Done extract data!\n",
      "Generating PRS...\n",
      "PRS is generated!\n",
      "The PRS result stores in .prs_results['clumping+PRScs']!\n",
      "--- Done in 0:00:11 ---\n",
      "The best fit p-value is 0.5\n",
      "The best fit result is stored in processor.prs_results['clumping+PRScs']['best_fit']\n",
      "The best fit result is stored in processor.performance['clumping+PRScs']['r2_score']\n"
     ]
    }
   ],
   "source": [
    "# Run the method PRS method: clumping_PRScs\n",
    "tprs.combine.combine_methods(processor,methods=[\"clumping\",\"PRScs\"], \n",
    "                             trait_col=\"Height\",key_ss=\"clumping+PRScs\",use_col=\"OR\" )\n",
    "tprs.scoring.generate_prs(processor,use_col=\"OR\",method=\"clumping+PRScs\")\n",
    "tprs.metrics.r2_score_evaluation(processor,method=\"clumping+PRScs\", trait_col=\"Height\", prs_col=\"SCORE\")"
   ]
  },
  {
   "cell_type": "code",
   "execution_count": 25,
   "id": "bbd45b2c",
   "metadata": {},
   "outputs": [
    {
     "name": "stdout",
     "output_type": "stream",
     "text": [
      "Estimating mixing weights...\n",
      "Mixing weights are: [0.41598225 0.        ]\n",
      "Estimating mixing is done!\n",
      "Adjusted BETA...\n",
      "Adjusted BETA is done\n",
      "The clumping result stores in .adjusted_ss['clumping+clumping']!\n",
      "--- Done in 0:00:00 ---\n",
      "Extracting adjusted sumstats from clumping+clumping method...\n",
      "Done extract data!\n",
      "Generating PRS...\n",
      "PRS is generated!\n",
      "The PRS result stores in .prs_results['clumping+clumping']!\n",
      "--- Done in 0:00:14 ---\n",
      "The best fit p-value is 0.5\n",
      "The best fit result is stored in processor.prs_results['clumping+clumping']['best_fit']\n",
      "The best fit result is stored in processor.performance['clumping+clumping']['r2_score']\n"
     ]
    }
   ],
   "source": [
    "# Run the method PRS method: clumping_double_weight_PRScs\n",
    "tprs.combine.combine_methods(processor,methods=[\"clumping\",\"clumping\"], \n",
    "                             trait_col=\"Height\",key_ss=\"clumping+clumping\",use_col=\"OR\" )\n",
    "tprs.scoring.generate_prs(processor,use_col=\"OR\",method=\"clumping+clumping\")\n",
    "tprs.metrics.r2_score_evaluation(processor,method=\"clumping+clumping\", trait_col=\"Height\", prs_col=\"SCORE\")"
   ]
  },
  {
   "cell_type": "code",
   "execution_count": 26,
   "id": "48d9a91c",
   "metadata": {},
   "outputs": [
    {
     "name": "stdout",
     "output_type": "stream",
     "text": [
      "Estimating mixing weights...\n",
      "Mixing weights are: [0.15909955 0.04517654]\n",
      "Estimating mixing is done!\n",
      "Adjusted BETA...\n",
      "Adjusted BETA is done\n",
      "The clumping result stores in .adjusted_ss['double_weight+PRScs']!\n",
      "--- Done in 0:00:00 ---\n",
      "Extracting adjusted sumstats from double_weight+PRScs method...\n",
      "Done extract data!\n",
      "Generating PRS...\n",
      "PRS is generated!\n",
      "The PRS result stores in .prs_results['double_weight+PRScs']!\n",
      "--- Done in 0:00:11 ---\n",
      "The best fit p-value is 0.4\n",
      "The best fit result is stored in processor.prs_results['double_weight+PRScs']['best_fit']\n",
      "The best fit result is stored in processor.performance['double_weight+PRScs']['r2_score']\n"
     ]
    }
   ],
   "source": [
    "# Run the method PRS method: clumping_double_weight_PRScs\n",
    "tprs.combine.combine_methods(processor,methods=[\"double_weight\",\"PRScs\"], \n",
    "                             trait_col=\"Height\",key_ss=\"double_weight+PRScs\",use_col=\"OR\" )\n",
    "tprs.scoring.generate_prs(processor,use_col=\"OR\",method=\"double_weight+PRScs\")\n",
    "tprs.metrics.r2_score_evaluation(processor,method=\"double_weight+PRScs\", trait_col=\"Height\", prs_col=\"SCORE\")"
   ]
  },
  {
   "cell_type": "markdown",
   "id": "f1584ce5",
   "metadata": {},
   "source": [
    "## Visualization"
   ]
  },
  {
   "cell_type": "code",
   "execution_count": 27,
   "id": "97138326",
   "metadata": {},
   "outputs": [
    {
     "data": {
      "image/png": "[encoded data removed]",
      "text/plain": [
       "<Figure size 432x288 with 1 Axes>"
      ]
     },
     "metadata": {
      "needs_background": "light"
     },
     "output_type": "display_data"
    }
   ],
   "source": [
    "tprs.visualization.visualize_performance(processor, metric=\"r2_score\",plot_type=\"box_plot\")"
   ]
  }
 ],
 "metadata": {
  "kernelspec": {
   "display_name": "Python 3 (ipykernel)",
   "language": "python",
   "name": "python3"
  },
  "language_info": {
   "codemirror_mode": {
    "name": "ipython",
    "version": 3
   },
   "file_extension": ".py",
   "mimetype": "text/x-python",
   "name": "python",
   "nbconvert_exporter": "python",
   "pygments_lexer": "ipython3",
   "version": "3.8.10"
  }
 },
 "nbformat": 4,
 "nbformat_minor": 5
}
