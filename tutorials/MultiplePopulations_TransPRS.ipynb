{
 "cells": [
  {
   "cell_type": "code",
   "execution_count": 1,
   "id": "3b9bf1c7",
   "metadata": {},
   "outputs": [
    {
     "name": "stderr",
     "output_type": "stream",
     "text": [
      "Mapping files: 100%|██████████| 3/3 [00:01<00:00,  2.42it/s]\n"
     ]
    }
   ],
   "source": [
    "# Load libraries\n",
    "from pandas_plink import read_plink1_bin\n",
    "import pandas as pd\n",
    "import transprs as tprs\n",
    "\n",
    "# Read the population file\n",
    "population = read_plink1_bin(\"./data/EUR.bed\",\n",
    "                             \"./data/EUR.bim\",\n",
    "                             \"./data/EUR.fam\")\n",
    "# Read sumstats file\n",
    "sumstats = pd.read_table(\"./data/Height.gwas.txt.gz\")"
   ]
  },
  {
   "cell_type": "markdown",
   "id": "c35efd26",
   "metadata": {},
   "source": [
    "# Xử lý processor 1\n",
    "\n",
    "Chạy tương tự như bên single population"
   ]
  },
  {
   "cell_type": "code",
   "execution_count": 2,
   "id": "261389a2",
   "metadata": {},
   "outputs": [],
   "source": [
    "# Create the DataProcessor object\n",
    "processor = tprs.datasets.DataProcessor(sumstats=sumstats, population=population)"
   ]
  },
  {
   "cell_type": "code",
   "execution_count": 3,
   "id": "931397ac",
   "metadata": {},
   "outputs": [
    {
     "name": "stdout",
     "output_type": "stream",
     "text": [
      "Phenotype stored in .phenotype\n"
     ]
    },
    {
     "name": "stderr",
     "output_type": "stream",
     "text": [
      "/scratch/user/uqdpham4/.conda/envs/transprs/lib/python3.8/site-packages/xarray/core/indexing.py:1226: PerformanceWarning: Slicing is producing a large chunk. To accept the large\n",
      "chunk and silence this warning, set the option\n",
      "    >>> with dask.config.set(**{'array.slicing.split_large_chunks': False}):\n",
      "    ...     array[indexer]\n",
      "\n",
      "To avoid creating the large chunks, set the option\n",
      "    >>> with dask.config.set(**{'array.slicing.split_large_chunks': True}):\n",
      "    ...     array[indexer]\n",
      "  return self.array[key]\n"
     ]
    }
   ],
   "source": [
    "phenotype = pd.read_table(\"./data/EUR.height\")\n",
    "processor.add_phenotype(phenotype)"
   ]
  },
  {
   "cell_type": "code",
   "execution_count": 4,
   "id": "61167b82",
   "metadata": {},
   "outputs": [
    {
     "name": "stderr",
     "output_type": "stream",
     "text": [
      "/scratch/user/uqdpham4/VGP/transprs/datasets/classes.py:61: SettingWithCopyWarning: \n",
      "A value is trying to be set on a copy of a slice from a DataFrame\n",
      "\n",
      "See the caveats in the documentation: https://pandas.pydata.org/pandas-docs/stable/user_guide/indexing.html#returning-a-view-versus-a-copy\n",
      "  self.sumstats[\"CHR\"][\n"
     ]
    },
    {
     "name": "stdout",
     "output_type": "stream",
     "text": [
      "PLINK v1.90b6.21 64-bit (19 Oct 2020)          www.cog-genomics.org/plink/1.9/\n",
      "(C) 2005-2020 Shaun Purcell, Christopher Chang   GNU General Public License v3\n",
      "Logging to tmp.log.\n",
      "Options in effect:\n",
      "  --bfile tmp\n",
      "  --indep-pairwise 200 50 0.25\n",
      "  --out tmp\n",
      "\n",
      "128656 MB RAM detected; reserving 64328 MB for main workspace.\n",
      "551892 variants loaded from .bim file.\n",
      "475 people (227 males, 248 females) loaded from .fam.\n",
      "Using 1 thread (no multithreaded calculations invoked).\n",
      "Before main variant filters, 475 founders and 0 nonfounders present.\n",
      "Calculating allele frequencies... 10111213141516171819202122232425262728293031323334353637383940414243444546474849505152535455565758596061626364656667686970717273747576777879808182838485868788899091929394959697989 done.\n",
      "Total genotyping rate is 0.999896.\n",
      "551892 variants and 475 people pass filters and QC.\n",
      "Note: No phenotypes present.\n",
      "Pruned 20659 variants from chromosome 1, leaving 21506.\n",
      "Pruned 21363 variants from chromosome 2, leaving 21295.\n",
      "Pruned 17875 variants from chromosome 3, leaving 18161.\n",
      "Pruned 16697 variants from chromosome 4, leaving 17026.\n",
      "Pruned 15454 variants from chromosome 5, leaving 16214.\n",
      "Pruned 21161 variants from chromosome 6, leaving 15727.\n",
      "Pruned 14317 variants from chromosome 7, leaving 14879.\n",
      "Pruned 13602 variants from chromosome 8, leaving 13904.\n",
      "Pruned 10993 variants from chromosome 9, leaving 12162.\n",
      "Pruned 13038 variants from chromosome 10, leaving 13550.\n",
      "Pruned 13354 variants from chromosome 11, leaving 12926.\n",
      "Pruned 11929 variants from chromosome 12, leaving 12752.\n",
      "Pruned 8621 variants from chromosome 13, leaving 9759.\n",
      "Pruned 8270 variants from chromosome 14, leaving 8947.\n",
      "Pruned 8126 variants from chromosome 15, leaving 8635.\n",
      "Pruned 9045 variants from chromosome 16, leaving 9663.\n",
      "Pruned 8212 variants from chromosome 17, leaving 8910.\n",
      "Pruned 7342 variants from chromosome 18, leaving 8717.\n",
      "Pruned 7137 variants from chromosome 19, leaving 6863.\n",
      "Pruned 6472 variants from chromosome 20, leaving 7627.\n",
      "Pruned 3708 variants from chromosome 21, leaving 4338.\n",
      "Pruned 4199 variants from chromosome 22, leaving 4367.\n",
      "Pruned 16535 variants from chromosome 23, leaving 5855.\n",
      "Pruning complete.  278109 of 551892 variants removed.\n",
      "Marker lists written to tmp.prune.in and tmp.prune.out .\n",
      "PLINK v1.90b6.21 64-bit (19 Oct 2020)          www.cog-genomics.org/plink/1.9/\n",
      "(C) 2005-2020 Shaun Purcell, Christopher Chang   GNU General Public License v3\n",
      "Logging to tmp.log.\n",
      "Options in effect:\n",
      "  --bfile tmp\n",
      "  --extract tmp.prune.in\n",
      "  --out tmp\n",
      "  --pca 6\n",
      "\n",
      "128656 MB RAM detected; reserving 64328 MB for main workspace.\n",
      "551892 variants loaded from .bim file.\n",
      "475 people (227 males, 248 females) loaded from .fam.\n",
      "--extract: 273783 variants remaining.\n",
      "Using up to 47 threads (change this with --threads).\n",
      "Before main variant filters, 475 founders and 0 nonfounders present.\n",
      "Calculating allele frequencies... 10111213141516171819202122232425262728293031323334353637383940414243444546474849505152535455565758596061626364656667686970717273747576777879808182838485868788899091929394959697989 done.\n",
      "Total genotyping rate is 0.999897.\n",
      "273783 variants and 475 people pass filters and QC.\n",
      "Note: No phenotypes present.\n",
      "Excluding 5855 variants on non-autosomes from relationship matrix calc.\n",
      "Relationship matrix calculation complete.\n",
      "--pca: Results saved to tmp.eigenval and tmp.eigenvec .\n",
      "PCA result is stored in .phenotype\n",
      "The splitted indexes are stored in .dataset_repeated_split\n"
     ]
    }
   ],
   "source": [
    "# Run preprocessing\n",
    "processor.clean_snps()\n",
    "processor.filter_imputed(info=0.9)\n",
    "processor.extract_intersection()\n",
    "processor.check_beta_se()\n",
    "processor.flip_reverse()\n",
    "processor.compute_pca(n_components=6)\n",
    "processor.split_chromosomes()\n",
    "processor.sort_snps_chr()\n",
    "processor.cross_validation_split(id_col=\"FID\",k_folds=5,n_repeats=10)"
   ]
  },
  {
   "cell_type": "code",
   "execution_count": 5,
   "id": "9c26af01",
   "metadata": {
    "scrolled": true
   },
   "outputs": [
    {
     "name": "stdout",
     "output_type": "stream",
     "text": [
      "Extracting data...\n",
      "Done extract data!\n",
      "Clumping is running...\n",
      "PLINK v1.90b6.21 64-bit (19 Oct 2020)          www.cog-genomics.org/plink/1.9/\n",
      "(C) 2005-2020 Shaun Purcell, Christopher Chang   GNU General Public License v3\n",
      "Logging to tmp_out.log.\n",
      "Options in effect:\n",
      "  --bfile tmp\n",
      "  --clump tmp_ss\n",
      "  --clump-field P\n",
      "  --clump-kb 250\n",
      "  --clump-p1 1\n",
      "  --clump-r2 0.5\n",
      "  --clump-snp-field SNP\n",
      "  --out tmp_out\n",
      "\n",
      "128656 MB RAM detected; reserving 64328 MB for main workspace.\n",
      "Allocated 20353 MB successfully, after larger attempt(s) failed.\n",
      "551892 variants loaded from .bim file.\n",
      "475 people (227 males, 248 females) loaded from .fam.\n",
      "Using 1 thread (no multithreaded calculations invoked).\n",
      "Before main variant filters, 475 founders and 0 nonfounders present.\n",
      "Calculating allele frequencies... 101112131415161718192021222324252627282930313233343536373839404142434445464748495051525354555657585960616263646566676869707172737475767778798081828384858687888990919293949596979899%"
     ]
    },
    {
     "ename": "KeyboardInterrupt",
     "evalue": "",
     "output_type": "error",
     "traceback": [
      "\u001b[0;31m---------------------------------------------------------------------------\u001b[0m",
      "\u001b[0;31mKeyboardInterrupt\u001b[0m                         Traceback (most recent call last)",
      "\u001b[0;32m/state/partition1/pbs/tmpdir/pbs.529762.tinmgr2/ipykernel_18308/2537732605.py\u001b[0m in \u001b[0;36m<module>\u001b[0;34m\u001b[0m\n\u001b[1;32m      1\u001b[0m \u001b[0;31m# Run the method PRS method: clumping\u001b[0m\u001b[0;34m\u001b[0m\u001b[0;34m\u001b[0m\u001b[0;34m\u001b[0m\u001b[0m\n\u001b[0;32m----> 2\u001b[0;31m \u001b[0mtprs\u001b[0m\u001b[0;34m.\u001b[0m\u001b[0mmethods\u001b[0m\u001b[0;34m.\u001b[0m\u001b[0mclumping\u001b[0m\u001b[0;34m(\u001b[0m\u001b[0mprocessor\u001b[0m\u001b[0;34m)\u001b[0m\u001b[0;34m\u001b[0m\u001b[0;34m\u001b[0m\u001b[0m\n\u001b[0m",
      "\u001b[0;32m/scratch/user/uqdpham4/VGP/transprs/methods/clumping.py\u001b[0m in \u001b[0;36mclumping\u001b[0;34m(processor, clump_p1, clump_r2, clump_kb)\u001b[0m\n\u001b[1;32m     18\u001b[0m     \u001b[0mprint\u001b[0m\u001b[0;34m(\u001b[0m\u001b[0;34m\"Done extract data!\"\u001b[0m\u001b[0;34m)\u001b[0m\u001b[0;34m\u001b[0m\u001b[0;34m\u001b[0m\u001b[0m\n\u001b[1;32m     19\u001b[0m     \u001b[0mprint\u001b[0m\u001b[0;34m(\u001b[0m\u001b[0;34m\"Clumping is running...\"\u001b[0m\u001b[0;34m)\u001b[0m\u001b[0;34m\u001b[0m\u001b[0;34m\u001b[0m\u001b[0m\n\u001b[0;32m---> 20\u001b[0;31m     subprocess.call(\n\u001b[0m\u001b[1;32m     21\u001b[0m         \"\"\"\n\u001b[1;32m     22\u001b[0m         \u001b[0mplink\u001b[0m\u001b[0;31m \u001b[0m\u001b[0;31m\\\u001b[0m\u001b[0;34m\u001b[0m\u001b[0;34m\u001b[0m\u001b[0m\n",
      "\u001b[0;32m/scratch/user/uqdpham4/.conda/envs/transprs/lib/python3.8/subprocess.py\u001b[0m in \u001b[0;36mcall\u001b[0;34m(timeout, *popenargs, **kwargs)\u001b[0m\n\u001b[1;32m    340\u001b[0m     \u001b[0;32mwith\u001b[0m \u001b[0mPopen\u001b[0m\u001b[0;34m(\u001b[0m\u001b[0;34m*\u001b[0m\u001b[0mpopenargs\u001b[0m\u001b[0;34m,\u001b[0m \u001b[0;34m**\u001b[0m\u001b[0mkwargs\u001b[0m\u001b[0;34m)\u001b[0m \u001b[0;32mas\u001b[0m \u001b[0mp\u001b[0m\u001b[0;34m:\u001b[0m\u001b[0;34m\u001b[0m\u001b[0;34m\u001b[0m\u001b[0m\n\u001b[1;32m    341\u001b[0m         \u001b[0;32mtry\u001b[0m\u001b[0;34m:\u001b[0m\u001b[0;34m\u001b[0m\u001b[0;34m\u001b[0m\u001b[0m\n\u001b[0;32m--> 342\u001b[0;31m             \u001b[0;32mreturn\u001b[0m \u001b[0mp\u001b[0m\u001b[0;34m.\u001b[0m\u001b[0mwait\u001b[0m\u001b[0;34m(\u001b[0m\u001b[0mtimeout\u001b[0m\u001b[0;34m=\u001b[0m\u001b[0mtimeout\u001b[0m\u001b[0;34m)\u001b[0m\u001b[0;34m\u001b[0m\u001b[0;34m\u001b[0m\u001b[0m\n\u001b[0m\u001b[1;32m    343\u001b[0m         \u001b[0;32mexcept\u001b[0m\u001b[0;34m:\u001b[0m  \u001b[0;31m# Including KeyboardInterrupt, wait handled that.\u001b[0m\u001b[0;34m\u001b[0m\u001b[0;34m\u001b[0m\u001b[0m\n\u001b[1;32m    344\u001b[0m             \u001b[0mp\u001b[0m\u001b[0;34m.\u001b[0m\u001b[0mkill\u001b[0m\u001b[0;34m(\u001b[0m\u001b[0;34m)\u001b[0m\u001b[0;34m\u001b[0m\u001b[0;34m\u001b[0m\u001b[0m\n",
      "\u001b[0;32m/scratch/user/uqdpham4/.conda/envs/transprs/lib/python3.8/subprocess.py\u001b[0m in \u001b[0;36mwait\u001b[0;34m(self, timeout)\u001b[0m\n\u001b[1;32m   1081\u001b[0m             \u001b[0mendtime\u001b[0m \u001b[0;34m=\u001b[0m \u001b[0m_time\u001b[0m\u001b[0;34m(\u001b[0m\u001b[0;34m)\u001b[0m \u001b[0;34m+\u001b[0m \u001b[0mtimeout\u001b[0m\u001b[0;34m\u001b[0m\u001b[0;34m\u001b[0m\u001b[0m\n\u001b[1;32m   1082\u001b[0m         \u001b[0;32mtry\u001b[0m\u001b[0;34m:\u001b[0m\u001b[0;34m\u001b[0m\u001b[0;34m\u001b[0m\u001b[0m\n\u001b[0;32m-> 1083\u001b[0;31m             \u001b[0;32mreturn\u001b[0m \u001b[0mself\u001b[0m\u001b[0;34m.\u001b[0m\u001b[0m_wait\u001b[0m\u001b[0;34m(\u001b[0m\u001b[0mtimeout\u001b[0m\u001b[0;34m=\u001b[0m\u001b[0mtimeout\u001b[0m\u001b[0;34m)\u001b[0m\u001b[0;34m\u001b[0m\u001b[0;34m\u001b[0m\u001b[0m\n\u001b[0m\u001b[1;32m   1084\u001b[0m         \u001b[0;32mexcept\u001b[0m \u001b[0mKeyboardInterrupt\u001b[0m\u001b[0;34m:\u001b[0m\u001b[0;34m\u001b[0m\u001b[0;34m\u001b[0m\u001b[0m\n\u001b[1;32m   1085\u001b[0m             \u001b[0;31m# https://bugs.python.org/issue25942\u001b[0m\u001b[0;34m\u001b[0m\u001b[0;34m\u001b[0m\u001b[0;34m\u001b[0m\u001b[0m\n",
      "\u001b[0;32m/scratch/user/uqdpham4/.conda/envs/transprs/lib/python3.8/subprocess.py\u001b[0m in \u001b[0;36m_wait\u001b[0;34m(self, timeout)\u001b[0m\n\u001b[1;32m   1804\u001b[0m                         \u001b[0;32mif\u001b[0m \u001b[0mself\u001b[0m\u001b[0;34m.\u001b[0m\u001b[0mreturncode\u001b[0m \u001b[0;32mis\u001b[0m \u001b[0;32mnot\u001b[0m \u001b[0;32mNone\u001b[0m\u001b[0;34m:\u001b[0m\u001b[0;34m\u001b[0m\u001b[0;34m\u001b[0m\u001b[0m\n\u001b[1;32m   1805\u001b[0m                             \u001b[0;32mbreak\u001b[0m  \u001b[0;31m# Another thread waited.\u001b[0m\u001b[0;34m\u001b[0m\u001b[0;34m\u001b[0m\u001b[0m\n\u001b[0;32m-> 1806\u001b[0;31m                         \u001b[0;34m(\u001b[0m\u001b[0mpid\u001b[0m\u001b[0;34m,\u001b[0m \u001b[0msts\u001b[0m\u001b[0;34m)\u001b[0m \u001b[0;34m=\u001b[0m \u001b[0mself\u001b[0m\u001b[0;34m.\u001b[0m\u001b[0m_try_wait\u001b[0m\u001b[0;34m(\u001b[0m\u001b[0;36m0\u001b[0m\u001b[0;34m)\u001b[0m\u001b[0;34m\u001b[0m\u001b[0;34m\u001b[0m\u001b[0m\n\u001b[0m\u001b[1;32m   1807\u001b[0m                         \u001b[0;31m# Check the pid and loop as waitpid has been known to\u001b[0m\u001b[0;34m\u001b[0m\u001b[0;34m\u001b[0m\u001b[0;34m\u001b[0m\u001b[0m\n\u001b[1;32m   1808\u001b[0m                         \u001b[0;31m# return 0 even without WNOHANG in odd situations.\u001b[0m\u001b[0;34m\u001b[0m\u001b[0;34m\u001b[0m\u001b[0;34m\u001b[0m\u001b[0m\n",
      "\u001b[0;32m/scratch/user/uqdpham4/.conda/envs/transprs/lib/python3.8/subprocess.py\u001b[0m in \u001b[0;36m_try_wait\u001b[0;34m(self, wait_flags)\u001b[0m\n\u001b[1;32m   1762\u001b[0m             \u001b[0;34m\"\"\"All callers to this function MUST hold self._waitpid_lock.\"\"\"\u001b[0m\u001b[0;34m\u001b[0m\u001b[0;34m\u001b[0m\u001b[0m\n\u001b[1;32m   1763\u001b[0m             \u001b[0;32mtry\u001b[0m\u001b[0;34m:\u001b[0m\u001b[0;34m\u001b[0m\u001b[0;34m\u001b[0m\u001b[0m\n\u001b[0;32m-> 1764\u001b[0;31m                 \u001b[0;34m(\u001b[0m\u001b[0mpid\u001b[0m\u001b[0;34m,\u001b[0m \u001b[0msts\u001b[0m\u001b[0;34m)\u001b[0m \u001b[0;34m=\u001b[0m \u001b[0mos\u001b[0m\u001b[0;34m.\u001b[0m\u001b[0mwaitpid\u001b[0m\u001b[0;34m(\u001b[0m\u001b[0mself\u001b[0m\u001b[0;34m.\u001b[0m\u001b[0mpid\u001b[0m\u001b[0;34m,\u001b[0m \u001b[0mwait_flags\u001b[0m\u001b[0;34m)\u001b[0m\u001b[0;34m\u001b[0m\u001b[0;34m\u001b[0m\u001b[0m\n\u001b[0m\u001b[1;32m   1765\u001b[0m             \u001b[0;32mexcept\u001b[0m \u001b[0mChildProcessError\u001b[0m\u001b[0;34m:\u001b[0m\u001b[0;34m\u001b[0m\u001b[0;34m\u001b[0m\u001b[0m\n\u001b[1;32m   1766\u001b[0m                 \u001b[0;31m# This happens if SIGCLD is set to be ignored or waiting\u001b[0m\u001b[0;34m\u001b[0m\u001b[0;34m\u001b[0m\u001b[0;34m\u001b[0m\u001b[0m\n",
      "\u001b[0;31mKeyboardInterrupt\u001b[0m: "
     ]
    }
   ],
   "source": [
    "# Run the method PRS method: clumping\n",
    "tprs.methods.clumping(processor)"
   ]
  },
  {
   "cell_type": "code",
   "execution_count": 5,
   "id": "86f3d9e3",
   "metadata": {},
   "outputs": [
    {
     "name": "stdout",
     "output_type": "stream",
     "text": [
      "Double weight method is running...\n",
      "[1] \"Adjusted BETA is done!\"\n",
      "Done Double weight!\n",
      "The double weight result stores in .adjusted_ss['double_weight']!\n",
      "--- Done in 0:00:35 ---\n"
     ]
    }
   ],
   "source": [
    "# Run the method PRS method: double_weight\n",
    "tprs.methods.double_weight(processor)"
   ]
  },
  {
   "cell_type": "code",
   "execution_count": null,
   "id": "0a53e32e",
   "metadata": {},
   "outputs": [],
   "source": [
    "tprs.scoring.generate_prs(processor,use_col=\"OR\",method=\"clumping\")"
   ]
  },
  {
   "cell_type": "code",
   "execution_count": 6,
   "id": "0107eab1",
   "metadata": {},
   "outputs": [
    {
     "name": "stdout",
     "output_type": "stream",
     "text": [
      "Extracting adjusted sumstats from double_weight method...\n",
      "Done extract data!\n",
      "Generating PRS...\n",
      "PLINK v1.90b6.21 64-bit (19 Oct 2020)          www.cog-genomics.org/plink/1.9/\n",
      "(C) 2005-2020 Shaun Purcell, Christopher Chang   GNU General Public License v3\n",
      "Logging to tmp_results.log.\n",
      "Options in effect:\n",
      "  --bfile tmp\n",
      "  --out tmp_results\n",
      "  --q-score-range tmp_range_list tmp_SNP.pvalue\n",
      "  --score tmp_ss 3 4 9 header\n",
      "\n",
      "128656 MB RAM detected; reserving 64328 MB for main workspace.\n",
      "551892 variants loaded from .bim file.\n",
      "475 people (227 males, 248 females) loaded from .fam.\n",
      "Using 1 thread (no multithreaded calculations invoked).\n",
      "Before main variant filters, 475 founders and 0 nonfounders present.\n",
      "Calculating allele frequencies... 101112131415161718192021222324252627282930313233343536373839404142434445464748495051525354555657585960616263646566676869707172737475767778798081828384858687888990919293949596979899%"
     ]
    },
    {
     "name": "stderr",
     "output_type": "stream",
     "text": [
      "Warning: 1 line skipped in --q-score-range data file.\n"
     ]
    },
    {
     "name": "stdout",
     "output_type": "stream",
     "text": [
      " done.\n",
      "Total genotyping rate is 0.999896.\n",
      "551892 variants and 475 people pass filters and QC.\n",
      "Note: No phenotypes present.\n",
      "--score: 264707 valid predictors loaded.\n",
      "--score: 7 ranges processed.\n",
      "Results written to tmp_results.*.profile.\n",
      "PRS is generated!\n",
      "The PRS result stores in .prs_results['double_weight']!\n",
      "--- Done in 0:00:11 ---\n"
     ]
    }
   ],
   "source": [
    "tprs.scoring.generate_prs(processor,use_col=\"OR\",method=\"double_weight\")"
   ]
  },
  {
   "cell_type": "code",
   "execution_count": null,
   "id": "cd9ae1ee",
   "metadata": {},
   "outputs": [],
   "source": [
    "tprs.scoring.generate_prs(processor,use_col=\"OR\",method=\"PRScs\")"
   ]
  },
  {
   "cell_type": "code",
   "execution_count": null,
   "id": "bc6e079e",
   "metadata": {},
   "outputs": [],
   "source": [
    "tprs.metrics.r2_score_evaluation(processor,method=\"clumping\", trait_col=\"Height\", prs_col=\"SCORE\")"
   ]
  },
  {
   "cell_type": "code",
   "execution_count": 7,
   "id": "daec8b90",
   "metadata": {},
   "outputs": [
    {
     "name": "stdout",
     "output_type": "stream",
     "text": [
      "The best fit p-value is 0.3\n",
      "The best fit result is stored in processor.prs_results['double_weight']['best_fit']\n",
      "The best fit result is stored in processor.performance['double_weight']['r2_score']\n"
     ]
    }
   ],
   "source": [
    "tprs.metrics.r2_score_evaluation(processor,method=\"double_weight\", trait_col=\"Height\", prs_col=\"SCORE\")"
   ]
  },
  {
   "cell_type": "code",
   "execution_count": null,
   "id": "96225e11",
   "metadata": {},
   "outputs": [],
   "source": [
    "tprs.metrics.r2_score_evaluation(processor,method=\"PRScs\", trait_col=\"Height\", prs_col=\"SCORE\")"
   ]
  },
  {
   "cell_type": "markdown",
   "id": "1447f82a",
   "metadata": {},
   "source": [
    "# Xử lý processor 2"
   ]
  },
  {
   "cell_type": "markdown",
   "id": "ba06cd9a",
   "metadata": {},
   "source": [
    "Ví dụ nên để dup cái processor ra"
   ]
  },
  {
   "cell_type": "code",
   "execution_count": 8,
   "id": "8a918fc5",
   "metadata": {},
   "outputs": [],
   "source": [
    "processor2 = processor"
   ]
  },
  {
   "cell_type": "markdown",
   "id": "7236e4e9",
   "metadata": {},
   "source": [
    "# Combine multiple population"
   ]
  },
  {
   "cell_type": "markdown",
   "id": "4c143995",
   "metadata": {},
   "source": [
    "Có thể kết hợp bất kỳ methods nào từ 2 hay nhiều processor. Hiện tại chỉ hỗ trợ combine best fit PRS nên bắt buộc phải chạy evaluation cho từng processor trước khi combine. Sau khi combine sẽ sinh ra 1 thằng `adjusted_ss['multipop']` cho mỗi processor nên cần chạy tiếp PRS và evaluation."
   ]
  },
  {
   "cell_type": "code",
   "execution_count": 11,
   "id": "959ee4c7",
   "metadata": {},
   "outputs": [
    {
     "name": "stdout",
     "output_type": "stream",
     "text": [
      "Estimating mixing weights...\n",
      "Mixing weights are: [0.14153556 0.        ]\n",
      "Estimating mixing is done!\n",
      "Adjusted BETA...\n",
      "Adjusted BETA is done\n",
      "The clumping result stores in .adjusted_ss['multipop']!\n",
      "--- Done in 0:00:01 ---\n"
     ]
    }
   ],
   "source": [
    "from transprs.combine.multipop import combine_multipop\n",
    "combine_multipop([processor,processor2], methods=[\"double_weight\",\"double_weight\"],trait_col=\"Height\", prs_col=\"SCORE\",\n",
    "                key_ss=\"multipop\", use_col=\"OR\")"
   ]
  },
  {
   "cell_type": "markdown",
   "id": "d0b19b96",
   "metadata": {},
   "source": [
    "# PRScsx"
   ]
  },
  {
   "cell_type": "markdown",
   "id": "3ac577fb",
   "metadata": {},
   "source": [
    "PRScsx cần thêm LD reference. Cần chuẩn bị folder đó như trong hướng dẫn: https://github.com/getian107/PRScsx\n",
    "\n",
    "PRScsx cũng tương tự, mỗi sumstats từ population khác nhau sẽ có processor tương ứng sẽ 1 thằng `adjusted_ss['PRScsx']` cho mỗi processor nên cần chạy tiếp PRS và evaluation."
   ]
  },
  {
   "cell_type": "code",
   "execution_count": 21,
   "id": "380eb631",
   "metadata": {},
   "outputs": [
    {
     "name": "stdout",
     "output_type": "stream",
     "text": [
      "Extracting data...\n",
      "Done extract data!\n",
      "PRScsx is running...\n",
      "PLINK v1.90b6.21 64-bit (19 Oct 2020)          www.cog-genomics.org/plink/1.9/\n",
      "(C) 2005-2020 Shaun Purcell, Christopher Chang   GNU General Public License v3\n",
      "Logging to tmp1.log.\n",
      "Options in effect:\n",
      "  --bim tmp.bim\n",
      "  --chr 1\n",
      "  --make-just-bim\n",
      "  --out tmp1\n",
      "\n",
      "128656 MB RAM detected; reserving 64328 MB for main workspace.\n",
      "Allocated 20353 MB successfully, after larger attempt(s) failed.\n",
      "42165 out of 551892 variants loaded from .bim file.\n",
      "Using 1 thread (no multithreaded calculations invoked).\n",
      "42165 variants pass filters and QC.\n",
      "--make-just-bim to tmp1.bim ... done.\n",
      "PLINK v1.90b6.21 64-bit (19 Oct 2020)          www.cog-genomics.org/plink/1.9/\n",
      "(C) 2005-2020 Shaun Purcell, Christopher Chang   GNU General Public License v3\n",
      "Logging to tmp2.log.\n",
      "Options in effect:\n",
      "  --bim tmp.bim\n",
      "  --chr 2\n",
      "  --make-just-bim\n",
      "  --out tmp2\n",
      "\n",
      "128656 MB RAM detected; reserving 64328 MB for main workspace.\n",
      "Allocated 20353 MB successfully, after larger attempt(s) failed.\n",
      "42658 out of 551892 variants loaded from .bim file.\n",
      "Using 1 thread (no multithreaded calculations invoked).\n",
      "42658 variants pass filters and QC.\n",
      "--make-just-bim to tmp2.bim ... done.\n",
      "PLINK v1.90b6.21 64-bit (19 Oct 2020)          www.cog-genomics.org/plink/1.9/\n",
      "(C) 2005-2020 Shaun Purcell, Christopher Chang   GNU General Public License v3\n",
      "Logging to tmp3.log.\n",
      "Options in effect:\n",
      "  --bim tmp.bim\n",
      "  --chr 3\n",
      "  --make-just-bim\n",
      "  --out tmp3\n",
      "\n",
      "128656 MB RAM detected; reserving 64328 MB for main workspace.\n",
      "Allocated 20353 MB successfully, after larger attempt(s) failed.\n",
      "36036 out of 551892 variants loaded from .bim file.\n",
      "Using 1 thread (no multithreaded calculations invoked).\n",
      "36036 variants pass filters and QC.\n",
      "--make-just-bim to tmp3.bim ... done.\n",
      "PLINK v1.90b6.21 64-bit (19 Oct 2020)          www.cog-genomics.org/plink/1.9/\n",
      "(C) 2005-2020 Shaun Purcell, Christopher Chang   GNU General Public License v3\n",
      "Logging to tmp4.log.\n",
      "Options in effect:\n",
      "  --bim tmp.bim\n",
      "  --chr 4\n",
      "  --make-just-bim\n",
      "  --out tmp4\n",
      "\n",
      "128656 MB RAM detected; reserving 64328 MB for main workspace.\n",
      "Allocated 20353 MB successfully, after larger attempt(s) failed.\n",
      "33723 out of 551892 variants loaded from .bim file.\n",
      "Using 1 thread (no multithreaded calculations invoked).\n",
      "33723 variants pass filters and QC.\n",
      "--make-just-bim to tmp4.bim ... done.\n",
      "PLINK v1.90b6.21 64-bit (19 Oct 2020)          www.cog-genomics.org/plink/1.9/\n",
      "(C) 2005-2020 Shaun Purcell, Christopher Chang   GNU General Public License v3\n",
      "Logging to tmp5.log.\n",
      "Options in effect:\n",
      "  --bim tmp.bim\n",
      "  --chr 5\n",
      "  --make-just-bim\n",
      "  --out tmp5\n",
      "\n",
      "128656 MB RAM detected; reserving 64328 MB for main workspace.\n",
      "Allocated 20353 MB successfully, after larger attempt(s) failed.\n",
      "31668 out of 551892 variants loaded from .bim file.\n",
      "Using 1 thread (no multithreaded calculations invoked).\n",
      "31668 variants pass filters and QC.\n",
      "--make-just-bim to tmp5.bim ... done.\n",
      "PLINK v1.90b6.21 64-bit (19 Oct 2020)          www.cog-genomics.org/plink/1.9/\n",
      "(C) 2005-2020 Shaun Purcell, Christopher Chang   GNU General Public License v3\n",
      "Logging to tmp6.log.\n",
      "Options in effect:\n",
      "  --bim tmp.bim\n",
      "  --chr 6\n",
      "  --make-just-bim\n",
      "  --out tmp6\n",
      "\n",
      "128656 MB RAM detected; reserving 64328 MB for main workspace.\n",
      "Allocated 20353 MB successfully, after larger attempt(s) failed.\n",
      "36888 out of 551892 variants loaded from .bim file.\n",
      "Using 1 thread (no multithreaded calculations invoked).\n",
      "36888 variants pass filters and QC.\n",
      "--make-just-bim to tmp6.bim ... done.\n",
      "PLINK v1.90b6.21 64-bit (19 Oct 2020)          www.cog-genomics.org/plink/1.9/\n",
      "(C) 2005-2020 Shaun Purcell, Christopher Chang   GNU General Public License v3\n",
      "Logging to tmp7.log.\n",
      "Options in effect:\n",
      "  --bim tmp.bim\n",
      "  --chr 7\n",
      "  --make-just-bim\n",
      "  --out tmp7\n",
      "\n",
      "128656 MB RAM detected; reserving 64328 MB for main workspace.\n",
      "Allocated 20353 MB successfully, after larger attempt(s) failed.\n",
      "29196 out of 551892 variants loaded from .bim file.\n",
      "Using 1 thread (no multithreaded calculations invoked).\n",
      "29196 variants pass filters and QC.\n",
      "--make-just-bim to tmp7.bim ... done.\n",
      "PLINK v1.90b6.21 64-bit (19 Oct 2020)          www.cog-genomics.org/plink/1.9/\n",
      "(C) 2005-2020 Shaun Purcell, Christopher Chang   GNU General Public License v3\n",
      "Logging to tmp8.log.\n",
      "Options in effect:\n",
      "  --bim tmp.bim\n",
      "  --chr 8\n",
      "  --make-just-bim\n",
      "  --out tmp8\n",
      "\n",
      "128656 MB RAM detected; reserving 64328 MB for main workspace.\n",
      "Allocated 20353 MB successfully, after larger attempt(s) failed.\n",
      "27506 out of 551892 variants loaded from .bim file.\n",
      "Using 1 thread (no multithreaded calculations invoked).\n",
      "27506 variants pass filters and QC.\n",
      "--make-just-bim to tmp8.bim ... done.\n",
      "PLINK v1.90b6.21 64-bit (19 Oct 2020)          www.cog-genomics.org/plink/1.9/\n",
      "(C) 2005-2020 Shaun Purcell, Christopher Chang   GNU General Public License v3\n",
      "Logging to tmp9.log.\n",
      "Options in effect:\n",
      "  --bim tmp.bim\n",
      "  --chr 9\n",
      "  --make-just-bim\n",
      "  --out tmp9\n",
      "\n",
      "128656 MB RAM detected; reserving 64328 MB for main workspace.\n",
      "Allocated 20353 MB successfully, after larger attempt(s) failed.\n",
      "23155 out of 551892 variants loaded from .bim file.\n",
      "Using 1 thread (no multithreaded calculations invoked).\n",
      "23155 variants pass filters and QC.\n",
      "--make-just-bim to tmp9.bim ... done.\n",
      "PLINK v1.90b6.21 64-bit (19 Oct 2020)          www.cog-genomics.org/plink/1.9/\n",
      "(C) 2005-2020 Shaun Purcell, Christopher Chang   GNU General Public License v3\n",
      "Logging to tmp10.log.\n",
      "Options in effect:\n",
      "  --bim tmp.bim\n",
      "  --chr 10\n",
      "  --make-just-bim\n",
      "  --out tmp10\n",
      "\n",
      "128656 MB RAM detected; reserving 64328 MB for main workspace.\n",
      "Allocated 20353 MB successfully, after larger attempt(s) failed.\n",
      "26588 out of 551892 variants loaded from .bim file.\n",
      "Using 1 thread (no multithreaded calculations invoked).\n",
      "26588 variants pass filters and QC.\n",
      "--make-just-bim to tmp10.bim ... done.\n",
      "PLINK v1.90b6.21 64-bit (19 Oct 2020)          www.cog-genomics.org/plink/1.9/\n",
      "(C) 2005-2020 Shaun Purcell, Christopher Chang   GNU General Public License v3\n",
      "Logging to tmp11.log.\n",
      "Options in effect:\n",
      "  --bim tmp.bim\n",
      "  --chr 11\n",
      "  --make-just-bim\n",
      "  --out tmp11\n",
      "\n",
      "128656 MB RAM detected; reserving 64328 MB for main workspace.\n",
      "Allocated 20353 MB successfully, after larger attempt(s) failed.\n",
      "26280 out of 551892 variants loaded from .bim file.\n",
      "Using 1 thread (no multithreaded calculations invoked).\n",
      "26280 variants pass filters and QC.\n",
      "--make-just-bim to tmp11.bim ... done.\n",
      "PLINK v1.90b6.21 64-bit (19 Oct 2020)          www.cog-genomics.org/plink/1.9/\n",
      "(C) 2005-2020 Shaun Purcell, Christopher Chang   GNU General Public License v3\n",
      "Logging to tmp12.log.\n",
      "Options in effect:\n",
      "  --bim tmp.bim\n",
      "  --chr 12\n",
      "  --make-just-bim\n",
      "  --out tmp12\n",
      "\n",
      "128656 MB RAM detected; reserving 64328 MB for main workspace.\n",
      "Allocated 20353 MB successfully, after larger attempt(s) failed.\n",
      "24681 out of 551892 variants loaded from .bim file.\n",
      "Using 1 thread (no multithreaded calculations invoked).\n",
      "24681 variants pass filters and QC.\n",
      "--make-just-bim to tmp12.bim ... done.\n",
      "PLINK v1.90b6.21 64-bit (19 Oct 2020)          www.cog-genomics.org/plink/1.9/\n",
      "(C) 2005-2020 Shaun Purcell, Christopher Chang   GNU General Public License v3\n",
      "Logging to tmp13.log.\n",
      "Options in effect:\n",
      "  --bim tmp.bim\n",
      "  --chr 13\n",
      "  --make-just-bim\n",
      "  --out tmp13\n",
      "\n",
      "128656 MB RAM detected; reserving 64328 MB for main workspace.\n",
      "Allocated 20353 MB successfully, after larger attempt(s) failed.\n",
      "18380 out of 551892 variants loaded from .bim file.\n",
      "Using 1 thread (no multithreaded calculations invoked).\n",
      "18380 variants pass filters and QC.\n",
      "--make-just-bim to tmp13.bim ... done.\n",
      "PLINK v1.90b6.21 64-bit (19 Oct 2020)          www.cog-genomics.org/plink/1.9/\n",
      "(C) 2005-2020 Shaun Purcell, Christopher Chang   GNU General Public License v3\n",
      "Logging to tmp14.log.\n",
      "Options in effect:\n",
      "  --bim tmp.bim\n",
      "  --chr 14\n",
      "  --make-just-bim\n",
      "  --out tmp14\n",
      "\n",
      "128656 MB RAM detected; reserving 64328 MB for main workspace.\n",
      "Allocated 20353 MB successfully, after larger attempt(s) failed.\n",
      "17217 out of 551892 variants loaded from .bim file.\n",
      "Using 1 thread (no multithreaded calculations invoked).\n",
      "17217 variants pass filters and QC.\n",
      "--make-just-bim to tmp14.bim ... done.\n",
      "PLINK v1.90b6.21 64-bit (19 Oct 2020)          www.cog-genomics.org/plink/1.9/\n",
      "(C) 2005-2020 Shaun Purcell, Christopher Chang   GNU General Public License v3\n",
      "Logging to tmp15.log.\n",
      "Options in effect:\n",
      "  --bim tmp.bim\n",
      "  --chr 15\n",
      "  --make-just-bim\n",
      "  --out tmp15\n",
      "\n",
      "128656 MB RAM detected; reserving 64328 MB for main workspace.\n",
      "Allocated 20353 MB successfully, after larger attempt(s) failed.\n",
      "16761 out of 551892 variants loaded from .bim file.\n",
      "Using 1 thread (no multithreaded calculations invoked).\n",
      "16761 variants pass filters and QC.\n",
      "--make-just-bim to tmp15.bim ... done.\n",
      "PLINK v1.90b6.21 64-bit (19 Oct 2020)          www.cog-genomics.org/plink/1.9/\n",
      "(C) 2005-2020 Shaun Purcell, Christopher Chang   GNU General Public License v3\n",
      "Logging to tmp16.log.\n",
      "Options in effect:\n",
      "  --bim tmp.bim\n",
      "  --chr 16\n",
      "  --make-just-bim\n",
      "  --out tmp16\n",
      "\n",
      "128656 MB RAM detected; reserving 64328 MB for main workspace.\n",
      "Allocated 20353 MB successfully, after larger attempt(s) failed.\n",
      "18708 out of 551892 variants loaded from .bim file.\n",
      "Using 1 thread (no multithreaded calculations invoked).\n",
      "18708 variants pass filters and QC.\n",
      "--make-just-bim to tmp16.bim ... done.\n"
     ]
    },
    {
     "name": "stdout",
     "output_type": "stream",
     "text": [
      "PLINK v1.90b6.21 64-bit (19 Oct 2020)          www.cog-genomics.org/plink/1.9/\n",
      "(C) 2005-2020 Shaun Purcell, Christopher Chang   GNU General Public License v3\n",
      "Logging to tmp17.log.\n",
      "Options in effect:\n",
      "  --bim tmp.bim\n",
      "  --chr 17\n",
      "  --make-just-bim\n",
      "  --out tmp17\n",
      "\n",
      "128656 MB RAM detected; reserving 64328 MB for main workspace.\n",
      "Allocated 20353 MB successfully, after larger attempt(s) failed.\n",
      "17122 out of 551892 variants loaded from .bim file.\n",
      "Using 1 thread (no multithreaded calculations invoked).\n",
      "17122 variants pass filters and QC.\n",
      "--make-just-bim to tmp17.bim ... done.\n",
      "PLINK v1.90b6.21 64-bit (19 Oct 2020)          www.cog-genomics.org/plink/1.9/\n",
      "(C) 2005-2020 Shaun Purcell, Christopher Chang   GNU General Public License v3\n",
      "Logging to tmp18.log.\n",
      "Options in effect:\n",
      "  --bim tmp.bim\n",
      "  --chr 18\n",
      "  --make-just-bim\n",
      "  --out tmp18\n",
      "\n",
      "128656 MB RAM detected; reserving 64328 MB for main workspace.\n",
      "Allocated 20353 MB successfully, after larger attempt(s) failed.\n",
      "16059 out of 551892 variants loaded from .bim file.\n",
      "Using 1 thread (no multithreaded calculations invoked).\n",
      "16059 variants pass filters and QC.\n",
      "--make-just-bim to tmp18.bim ... done.\n",
      "PLINK v1.90b6.21 64-bit (19 Oct 2020)          www.cog-genomics.org/plink/1.9/\n",
      "(C) 2005-2020 Shaun Purcell, Christopher Chang   GNU General Public License v3\n",
      "Logging to tmp19.log.\n",
      "Options in effect:\n",
      "  --bim tmp.bim\n",
      "  --chr 19\n",
      "  --make-just-bim\n",
      "  --out tmp19\n",
      "\n",
      "128656 MB RAM detected; reserving 64328 MB for main workspace.\n",
      "Allocated 20353 MB successfully, after larger attempt(s) failed.\n",
      "14000 out of 551892 variants loaded from .bim file.\n",
      "Using 1 thread (no multithreaded calculations invoked).\n",
      "14000 variants pass filters and QC.\n",
      "--make-just-bim to tmp19.bim ... done.\n",
      "PLINK v1.90b6.21 64-bit (19 Oct 2020)          www.cog-genomics.org/plink/1.9/\n",
      "(C) 2005-2020 Shaun Purcell, Christopher Chang   GNU General Public License v3\n",
      "Logging to tmp20.log.\n",
      "Options in effect:\n",
      "  --bim tmp.bim\n",
      "  --chr 20\n",
      "  --make-just-bim\n",
      "  --out tmp20\n",
      "\n",
      "128656 MB RAM detected; reserving 64328 MB for main workspace.\n",
      "Allocated 20353 MB successfully, after larger attempt(s) failed.\n",
      "14099 out of 551892 variants loaded from .bim file.\n",
      "Using 1 thread (no multithreaded calculations invoked).\n",
      "14099 variants pass filters and QC.\n",
      "--make-just-bim to tmp20.bim ... done.\n",
      "PLINK v1.90b6.21 64-bit (19 Oct 2020)          www.cog-genomics.org/plink/1.9/\n",
      "(C) 2005-2020 Shaun Purcell, Christopher Chang   GNU General Public License v3\n",
      "Logging to tmp21.log.\n",
      "Options in effect:\n",
      "  --bim tmp.bim\n",
      "  --chr 21\n",
      "  --make-just-bim\n",
      "  --out tmp21\n",
      "\n",
      "128656 MB RAM detected; reserving 64328 MB for main workspace.\n",
      "Allocated 20353 MB successfully, after larger attempt(s) failed.\n",
      "8046 out of 551892 variants loaded from .bim file.\n",
      "Using 1 thread (no multithreaded calculations invoked).\n",
      "8046 variants pass filters and QC.\n",
      "--make-just-bim to tmp21.bim ... done.\n",
      "PLINK v1.90b6.21 64-bit (19 Oct 2020)          www.cog-genomics.org/plink/1.9/\n",
      "(C) 2005-2020 Shaun Purcell, Christopher Chang   GNU General Public License v3\n",
      "Logging to tmp22.log.\n",
      "Options in effect:\n",
      "  --bim tmp.bim\n",
      "  --chr 22\n",
      "  --make-just-bim\n",
      "  --out tmp22\n",
      "\n",
      "128656 MB RAM detected; reserving 64328 MB for main workspace.\n",
      "Allocated 20353 MB successfully, after larger attempt(s) failed.\n",
      "8566 out of 551892 variants loaded from .bim file.\n",
      "Using 1 thread (no multithreaded calculations invoked).\n",
      "8566 variants pass filters and QC.\n",
      "--make-just-bim to tmp22.bim ... done.\n"
     ]
    },
    {
     "name": "stderr",
     "output_type": "stream",
     "text": [
      "mkdir: cannot create directory ‘tmp’: File exists\n"
     ]
    },
    {
     "name": "stdout",
     "output_type": "stream",
     "text": [
      "Applying PRScsx for CHR 1...\n",
      "\n",
      "\n",
      "--ref_dir=./data/ld_ref/\n",
      "--bim_prefix=./tmp1\n",
      "--sst_file=['./tmp0_ss', './tmp1_ss']\n",
      "--a=1\n",
      "--b=0.5\n",
      "--phi=0.01\n",
      "--n_gwas=[5000, 5000]\n",
      "--pop=['EUR', 'EAS']\n",
      "--n_iter=1000\n",
      "--n_burnin=500\n",
      "--thin=5\n",
      "--out_dir=./tmp\n",
      "--out_name=tmp\n",
      "--chrom=['1']\n",
      "--meta=FALSE\n",
      "--seed=None\n",
      "\n",
      "\n",
      "##### process chromosome 1 #####\n",
      "... parse reference file: ./data/ld_ref//snpinfo_mult_ukbb_hm3 ...\n",
      "... 108029 SNPs on chromosome 1 read from ./data/ld_ref//snpinfo_mult_ukbb_hm3 ...\n",
      "... parse bim file: ./tmp1.bim ...\n",
      "... 42165 SNPs on chromosome 1 read from ./tmp1.bim ...\n",
      "... parse EUR sumstats file: ./tmp0_ss ...\n",
      "... 264707 SNPs read from ./tmp0_ss ...\n",
      "... 5537 common SNPs in the EUR reference, EUR sumstats, and validation set ...\n",
      "... parse EAS sumstats file: ./tmp1_ss ...\n",
      "... 264707 SNPs read from ./tmp1_ss ...\n"
     ]
    },
    {
     "name": "stderr",
     "output_type": "stream",
     "text": [
      "Traceback (most recent call last):\n",
      "  File \"/scratch/user/uqdpham4/VGP/transprs/methods/multipop/prscsx/PRScsx.py\", line 293, in <module>\n",
      "    main()\n",
      "  File \"/scratch/user/uqdpham4/VGP/transprs/methods/multipop/prscsx/PRScsx.py\", line 244, in main\n",
      "    sst_dict[pp] = parse_genet.parse_sumstats(\n",
      "  File \"/scratch/user/uqdpham4/VGP/transprs/methods/multipop/prscsx/parse_genet.py\", line 121, in parse_sumstats\n",
      "    set(zip(sst_dict[\"SNP\"], sst_dict[\"A1\"], sst_dict[\"A2\"]))\n",
      "KeyboardInterrupt\n"
     ]
    },
    {
     "ename": "KeyboardInterrupt",
     "evalue": "",
     "output_type": "error",
     "traceback": [
      "\u001b[0;31m---------------------------------------------------------------------------\u001b[0m",
      "\u001b[0;31mKeyboardInterrupt\u001b[0m                         Traceback (most recent call last)",
      "\u001b[0;32m/state/partition1/pbs/tmpdir/pbs.529762.tinmgr2/ipykernel_18308/944369263.py\u001b[0m in \u001b[0;36m<module>\u001b[0;34m\u001b[0m\n\u001b[1;32m      1\u001b[0m \u001b[0;31m# Run the method PRS method: PRScs\u001b[0m\u001b[0;34m\u001b[0m\u001b[0;34m\u001b[0m\u001b[0;34m\u001b[0m\u001b[0m\n\u001b[1;32m      2\u001b[0m \u001b[0;32mfrom\u001b[0m \u001b[0mtransprs\u001b[0m\u001b[0;34m.\u001b[0m\u001b[0mmethods\u001b[0m\u001b[0;34m.\u001b[0m\u001b[0mmultipop\u001b[0m \u001b[0;32mimport\u001b[0m \u001b[0mprscsx\u001b[0m\u001b[0;34m\u001b[0m\u001b[0;34m\u001b[0m\u001b[0m\n\u001b[0;32m----> 3\u001b[0;31m \u001b[0mprscsx\u001b[0m\u001b[0;34m(\u001b[0m\u001b[0;34m[\u001b[0m\u001b[0mprocessor\u001b[0m\u001b[0;34m,\u001b[0m\u001b[0mprocessor2\u001b[0m\u001b[0;34m]\u001b[0m\u001b[0;34m,\u001b[0m\u001b[0mpopulations\u001b[0m\u001b[0;34m=\u001b[0m\u001b[0;34m[\u001b[0m\u001b[0;34m\"EUR\"\u001b[0m\u001b[0;34m,\u001b[0m\u001b[0;34m\"EAS\"\u001b[0m\u001b[0;34m]\u001b[0m\u001b[0;34m,\u001b[0m\u001b[0mldref_dir\u001b[0m\u001b[0;34m=\u001b[0m\u001b[0;34m\"./data/ld_ref/\"\u001b[0m\u001b[0;34m,\u001b[0m \u001b[0muse_col\u001b[0m\u001b[0;34m=\u001b[0m\u001b[0;34m\"OR\"\u001b[0m\u001b[0;34m,\u001b[0m\u001b[0mN\u001b[0m\u001b[0;34m=\u001b[0m\u001b[0;34m[\u001b[0m\u001b[0;36m5000\u001b[0m\u001b[0;34m,\u001b[0m\u001b[0;36m5000\u001b[0m\u001b[0;34m]\u001b[0m\u001b[0;34m)\u001b[0m\u001b[0;34m\u001b[0m\u001b[0;34m\u001b[0m\u001b[0m\n\u001b[0m",
      "\u001b[0;32m/scratch/user/uqdpham4/VGP/transprs/methods/multipop/prscsx.py\u001b[0m in \u001b[0;36mprscsx\u001b[0;34m(processors, populations, use_col, ldref_dir, N, phi)\u001b[0m\n\u001b[1;32m     55\u001b[0m         \u001b[0mbim\u001b[0m \u001b[0;34m=\u001b[0m \u001b[0;34m\"./tmp\"\u001b[0m \u001b[0;34m+\u001b[0m \u001b[0mstr\u001b[0m\u001b[0;34m(\u001b[0m\u001b[0mi\u001b[0m\u001b[0;34m)\u001b[0m\u001b[0;34m\u001b[0m\u001b[0;34m\u001b[0m\u001b[0m\n\u001b[1;32m     56\u001b[0m         \u001b[0mCHR\u001b[0m \u001b[0;34m=\u001b[0m \u001b[0mi\u001b[0m\u001b[0;34m\u001b[0m\u001b[0;34m\u001b[0m\u001b[0m\n\u001b[0;32m---> 57\u001b[0;31m         subprocess.call(\n\u001b[0m\u001b[1;32m     58\u001b[0m             \"\"\"\n\u001b[1;32m     59\u001b[0m             \u001b[0mpython\u001b[0m \u001b[0;34m%\u001b[0m\u001b[0ms\u001b[0m \u001b[0;34m-\u001b[0m\u001b[0;34m-\u001b[0m\u001b[0mref_dir\u001b[0m\u001b[0;34m=\u001b[0m\u001b[0;34m%\u001b[0m\u001b[0ms\u001b[0m \u001b[0;34m-\u001b[0m\u001b[0;34m-\u001b[0m\u001b[0mbim_prefix\u001b[0m\u001b[0;34m=\u001b[0m\u001b[0;34m%\u001b[0m\u001b[0ms\u001b[0m \u001b[0;34m-\u001b[0m\u001b[0;34m-\u001b[0m\u001b[0msst_file\u001b[0m\u001b[0;34m=\u001b[0m\u001b[0;34m%\u001b[0m\u001b[0ms\u001b[0m \u001b[0;34m-\u001b[0m\u001b[0;34m-\u001b[0m\u001b[0mpop\u001b[0m\u001b[0;34m=\u001b[0m\u001b[0;34m%\u001b[0m\u001b[0ms\u001b[0m \u001b[0;34m-\u001b[0m\u001b[0;34m-\u001b[0m\u001b[0mn_gwas\u001b[0m\u001b[0;34m=\u001b[0m\u001b[0;34m%\u001b[0m\u001b[0ms\u001b[0m \u001b[0;34m-\u001b[0m\u001b[0;34m-\u001b[0m\u001b[0mchrom\u001b[0m\u001b[0;34m=\u001b[0m\u001b[0;34m%\u001b[0m\u001b[0ms\u001b[0m \u001b[0;34m-\u001b[0m\u001b[0;34m-\u001b[0m\u001b[0mphi\u001b[0m\u001b[0;34m=\u001b[0m\u001b[0;34m%\u001b[0m\u001b[0ms\u001b[0m \u001b[0;34m-\u001b[0m\u001b[0;34m-\u001b[0m\u001b[0mout_dir\u001b[0m\u001b[0;34m=\u001b[0m\u001b[0;34m%\u001b[0m\u001b[0ms\u001b[0m \u001b[0;34m-\u001b[0m\u001b[0;34m-\u001b[0m\u001b[0mout_name\u001b[0m\u001b[0;34m=\u001b[0m\u001b[0;34m%\u001b[0m\u001b[0ms\u001b[0m\u001b[0;34m\u001b[0m\u001b[0;34m\u001b[0m\u001b[0m\n",
      "\u001b[0;32m/scratch/user/uqdpham4/.conda/envs/transprs/lib/python3.8/subprocess.py\u001b[0m in \u001b[0;36mcall\u001b[0;34m(timeout, *popenargs, **kwargs)\u001b[0m\n\u001b[1;32m    340\u001b[0m     \u001b[0;32mwith\u001b[0m \u001b[0mPopen\u001b[0m\u001b[0;34m(\u001b[0m\u001b[0;34m*\u001b[0m\u001b[0mpopenargs\u001b[0m\u001b[0;34m,\u001b[0m \u001b[0;34m**\u001b[0m\u001b[0mkwargs\u001b[0m\u001b[0;34m)\u001b[0m \u001b[0;32mas\u001b[0m \u001b[0mp\u001b[0m\u001b[0;34m:\u001b[0m\u001b[0;34m\u001b[0m\u001b[0;34m\u001b[0m\u001b[0m\n\u001b[1;32m    341\u001b[0m         \u001b[0;32mtry\u001b[0m\u001b[0;34m:\u001b[0m\u001b[0;34m\u001b[0m\u001b[0;34m\u001b[0m\u001b[0m\n\u001b[0;32m--> 342\u001b[0;31m             \u001b[0;32mreturn\u001b[0m \u001b[0mp\u001b[0m\u001b[0;34m.\u001b[0m\u001b[0mwait\u001b[0m\u001b[0;34m(\u001b[0m\u001b[0mtimeout\u001b[0m\u001b[0;34m=\u001b[0m\u001b[0mtimeout\u001b[0m\u001b[0;34m)\u001b[0m\u001b[0;34m\u001b[0m\u001b[0;34m\u001b[0m\u001b[0m\n\u001b[0m\u001b[1;32m    343\u001b[0m         \u001b[0;32mexcept\u001b[0m\u001b[0;34m:\u001b[0m  \u001b[0;31m# Including KeyboardInterrupt, wait handled that.\u001b[0m\u001b[0;34m\u001b[0m\u001b[0;34m\u001b[0m\u001b[0m\n\u001b[1;32m    344\u001b[0m             \u001b[0mp\u001b[0m\u001b[0;34m.\u001b[0m\u001b[0mkill\u001b[0m\u001b[0;34m(\u001b[0m\u001b[0;34m)\u001b[0m\u001b[0;34m\u001b[0m\u001b[0;34m\u001b[0m\u001b[0m\n",
      "\u001b[0;32m/scratch/user/uqdpham4/.conda/envs/transprs/lib/python3.8/subprocess.py\u001b[0m in \u001b[0;36mwait\u001b[0;34m(self, timeout)\u001b[0m\n\u001b[1;32m   1081\u001b[0m             \u001b[0mendtime\u001b[0m \u001b[0;34m=\u001b[0m \u001b[0m_time\u001b[0m\u001b[0;34m(\u001b[0m\u001b[0;34m)\u001b[0m \u001b[0;34m+\u001b[0m \u001b[0mtimeout\u001b[0m\u001b[0;34m\u001b[0m\u001b[0;34m\u001b[0m\u001b[0m\n\u001b[1;32m   1082\u001b[0m         \u001b[0;32mtry\u001b[0m\u001b[0;34m:\u001b[0m\u001b[0;34m\u001b[0m\u001b[0;34m\u001b[0m\u001b[0m\n\u001b[0;32m-> 1083\u001b[0;31m             \u001b[0;32mreturn\u001b[0m \u001b[0mself\u001b[0m\u001b[0;34m.\u001b[0m\u001b[0m_wait\u001b[0m\u001b[0;34m(\u001b[0m\u001b[0mtimeout\u001b[0m\u001b[0;34m=\u001b[0m\u001b[0mtimeout\u001b[0m\u001b[0;34m)\u001b[0m\u001b[0;34m\u001b[0m\u001b[0;34m\u001b[0m\u001b[0m\n\u001b[0m\u001b[1;32m   1084\u001b[0m         \u001b[0;32mexcept\u001b[0m \u001b[0mKeyboardInterrupt\u001b[0m\u001b[0;34m:\u001b[0m\u001b[0;34m\u001b[0m\u001b[0;34m\u001b[0m\u001b[0m\n\u001b[1;32m   1085\u001b[0m             \u001b[0;31m# https://bugs.python.org/issue25942\u001b[0m\u001b[0;34m\u001b[0m\u001b[0;34m\u001b[0m\u001b[0;34m\u001b[0m\u001b[0m\n",
      "\u001b[0;32m/scratch/user/uqdpham4/.conda/envs/transprs/lib/python3.8/subprocess.py\u001b[0m in \u001b[0;36m_wait\u001b[0;34m(self, timeout)\u001b[0m\n\u001b[1;32m   1804\u001b[0m                         \u001b[0;32mif\u001b[0m \u001b[0mself\u001b[0m\u001b[0;34m.\u001b[0m\u001b[0mreturncode\u001b[0m \u001b[0;32mis\u001b[0m \u001b[0;32mnot\u001b[0m \u001b[0;32mNone\u001b[0m\u001b[0;34m:\u001b[0m\u001b[0;34m\u001b[0m\u001b[0;34m\u001b[0m\u001b[0m\n\u001b[1;32m   1805\u001b[0m                             \u001b[0;32mbreak\u001b[0m  \u001b[0;31m# Another thread waited.\u001b[0m\u001b[0;34m\u001b[0m\u001b[0;34m\u001b[0m\u001b[0m\n\u001b[0;32m-> 1806\u001b[0;31m                         \u001b[0;34m(\u001b[0m\u001b[0mpid\u001b[0m\u001b[0;34m,\u001b[0m \u001b[0msts\u001b[0m\u001b[0;34m)\u001b[0m \u001b[0;34m=\u001b[0m \u001b[0mself\u001b[0m\u001b[0;34m.\u001b[0m\u001b[0m_try_wait\u001b[0m\u001b[0;34m(\u001b[0m\u001b[0;36m0\u001b[0m\u001b[0;34m)\u001b[0m\u001b[0;34m\u001b[0m\u001b[0;34m\u001b[0m\u001b[0m\n\u001b[0m\u001b[1;32m   1807\u001b[0m                         \u001b[0;31m# Check the pid and loop as waitpid has been known to\u001b[0m\u001b[0;34m\u001b[0m\u001b[0;34m\u001b[0m\u001b[0;34m\u001b[0m\u001b[0m\n\u001b[1;32m   1808\u001b[0m                         \u001b[0;31m# return 0 even without WNOHANG in odd situations.\u001b[0m\u001b[0;34m\u001b[0m\u001b[0;34m\u001b[0m\u001b[0;34m\u001b[0m\u001b[0m\n",
      "\u001b[0;32m/scratch/user/uqdpham4/.conda/envs/transprs/lib/python3.8/subprocess.py\u001b[0m in \u001b[0;36m_try_wait\u001b[0;34m(self, wait_flags)\u001b[0m\n\u001b[1;32m   1762\u001b[0m             \u001b[0;34m\"\"\"All callers to this function MUST hold self._waitpid_lock.\"\"\"\u001b[0m\u001b[0;34m\u001b[0m\u001b[0;34m\u001b[0m\u001b[0m\n\u001b[1;32m   1763\u001b[0m             \u001b[0;32mtry\u001b[0m\u001b[0;34m:\u001b[0m\u001b[0;34m\u001b[0m\u001b[0;34m\u001b[0m\u001b[0m\n\u001b[0;32m-> 1764\u001b[0;31m                 \u001b[0;34m(\u001b[0m\u001b[0mpid\u001b[0m\u001b[0;34m,\u001b[0m \u001b[0msts\u001b[0m\u001b[0;34m)\u001b[0m \u001b[0;34m=\u001b[0m \u001b[0mos\u001b[0m\u001b[0;34m.\u001b[0m\u001b[0mwaitpid\u001b[0m\u001b[0;34m(\u001b[0m\u001b[0mself\u001b[0m\u001b[0;34m.\u001b[0m\u001b[0mpid\u001b[0m\u001b[0;34m,\u001b[0m \u001b[0mwait_flags\u001b[0m\u001b[0;34m)\u001b[0m\u001b[0;34m\u001b[0m\u001b[0;34m\u001b[0m\u001b[0m\n\u001b[0m\u001b[1;32m   1765\u001b[0m             \u001b[0;32mexcept\u001b[0m \u001b[0mChildProcessError\u001b[0m\u001b[0;34m:\u001b[0m\u001b[0;34m\u001b[0m\u001b[0;34m\u001b[0m\u001b[0m\n\u001b[1;32m   1766\u001b[0m                 \u001b[0;31m# This happens if SIGCLD is set to be ignored or waiting\u001b[0m\u001b[0;34m\u001b[0m\u001b[0;34m\u001b[0m\u001b[0;34m\u001b[0m\u001b[0m\n",
      "\u001b[0;31mKeyboardInterrupt\u001b[0m: "
     ]
    }
   ],
   "source": [
    "# Run the method PRS method: PRScs\n",
    "from transprs.methods.multipop import prscsx\n",
    "prscsx([processor,processor2],populations=[\"EUR\",\"EAS\"],ldref_dir=\"./data/ld_ref/\", use_col=\"OR\",N=[5000,5000])"
   ]
  },
  {
   "cell_type": "code",
   "execution_count": 20,
   "id": "952722db",
   "metadata": {},
   "outputs": [],
   "source": []
  },
  {
   "cell_type": "code",
   "execution_count": null,
   "id": "57c87fd4",
   "metadata": {},
   "outputs": [],
   "source": []
  }
 ],
 "metadata": {
  "kernelspec": {
   "display_name": "Python 3 (ipykernel)",
   "language": "python",
   "name": "python3"
  },
  "language_info": {
   "codemirror_mode": {
    "name": "ipython",
    "version": 3
   },
   "file_extension": ".py",
   "mimetype": "text/x-python",
   "name": "python",
   "nbconvert_exporter": "python",
   "pygments_lexer": "ipython3",
   "version": "3.8.10"
  }
 },
 "nbformat": 4,
 "nbformat_minor": 5
}
